{
 "cells": [
  {
   "cell_type": "markdown",
   "id": "ea588fcf-ed62-458e-bd6f-c8b200383eab",
   "metadata": {},
   "source": [
    "# Intermediate Python: Logic, Control Flow and Filtering"
   ]
  },
  {
   "cell_type": "markdown",
   "id": "e9fb0494-2c53-4ab8-9bef-81aa40982274",
   "metadata": {},
   "source": [
    "## Equality"
   ]
  },
  {
   "cell_type": "markdown",
   "id": "78931725-a561-4117-acb4-1d89e644c069",
   "metadata": {},
   "source": [
    "To check if two Python values, or variables, are equal you can use ==. To check for inequality, you need !=. As a refresher, have a look at the following examples that all result in True. Feel free to try them out in the IPython Shell.\n",
    "\n",
    "2 == (1 + 1)\n",
    "\"intermediate\" != \"python\"\n",
    "True != False\n",
    "\"Python\" != \"python\"\n",
    "When you write these comparisons in a script, you will need to wrap a print() function around them to see the output.\n",
    "\n",
    "Instructions\n",
    "100 XP\n",
    "In the editor on the right, write code to see if True equals False.\n",
    "Write Python code to check if -5 * 15 is not equal to 75.\n",
    "Ask Python whether the strings \"pyscript\" and \"PyScript\" are equal.\n",
    "What happens if you compare booleans and integers? Write code to see if True and 1 are equal."
   ]
  },
  {
   "cell_type": "code",
   "execution_count": null,
   "id": "2c5d0702-2f01-42ac-a74d-5a9d755ae340",
   "metadata": {},
   "outputs": [],
   "source": [
    "# Comparison of booleans\n",
    "print(True == False)\n",
    "\n",
    "# Comparison of integers\n",
    "print( -5 * 15 != 75)\n",
    "\n",
    "# Comparison of strings\n",
    "print('pyscript' == 'PyScript')\n",
    "\n",
    "# Compare a boolean with an integer\n",
    "print(True == 1)"
   ]
  },
  {
   "cell_type": "markdown",
   "id": "01a0447a-66b2-4cf2-9853-e06bfb99a32a",
   "metadata": {},
   "source": [
    "## Greater and less than"
   ]
  },
  {
   "cell_type": "markdown",
   "id": "de170c51-48cc-4a64-a644-a7263e599dfa",
   "metadata": {},
   "source": [
    "In the video, Hugo also talked about the less than and greater than signs, < and > in Python. You can combine them with an equals sign: <= and >=. Pay attention: <= is valid syntax, but =< is not.\n",
    "\n",
    "All Python expressions in the following code chunk evaluate to True:\n",
    "\n",
    "3 < 4\n",
    "3 <= 4\n",
    "\"alpha\" <= \"beta\"\n",
    "Remember that for string comparison, Python determines the relationship based on alphabetical order.\n",
    "\n",
    "Instructions\n",
    "100 XP\n",
    "Write Python expressions, wrapped in a print() function, to check whether:\n",
    "x is greater than or equal to -10. x has already been defined for you.\n",
    "\"test\" is less than or equal to y. y has already been defined for you.\n",
    "True is greater than False."
   ]
  },
  {
   "cell_type": "code",
   "execution_count": null,
   "id": "1190d06f-ba21-462a-8420-b3831f5ab0f6",
   "metadata": {},
   "outputs": [],
   "source": [
    "# Comparison of integers\n",
    "x = -3 * 6\n",
    "print(x >= -10)\n",
    "\n",
    "# Comparison of strings\n",
    "y = \"test\"\n",
    "print('test' <= y)\n",
    "\n",
    "# Comparison of booleans\n",
    "print(True > False)"
   ]
  },
  {
   "cell_type": "markdown",
   "id": "b984402d-5c8e-4f62-8992-465e5082d1fb",
   "metadata": {},
   "source": [
    "## Compare arrays"
   ]
  },
  {
   "cell_type": "markdown",
   "id": "81dd3a6b-a491-43fa-bb8d-27b1de2f5077",
   "metadata": {},
   "source": [
    "Out of the box, you can also use comparison operators with NumPy arrays.\n",
    "\n",
    "Remember areas, the list of area measurements for different rooms in your house from Introduction to Python? This time there's two NumPy arrays: my_house and your_house. They both contain the areas for the kitchen, living room, bedroom and bathroom in the same order, so you can compare them.\n",
    "\n",
    "Instructions\n",
    "100 XP\n",
    "Using comparison operators, generate boolean arrays that answer the following questions:\n",
    "\n",
    "Which areas in my_house are greater than or equal to 18?\n",
    "You can also compare two NumPy arrays element-wise. Which areas in my_house are smaller than the ones in your_house?\n",
    "Make sure to wrap both commands in a print() statement so that you can inspect the output!"
   ]
  },
  {
   "cell_type": "code",
   "execution_count": null,
   "id": "0889c941-9fbf-4f0c-a9cf-f328b83a3ad4",
   "metadata": {},
   "outputs": [],
   "source": [
    "# Create arrays\n",
    "import numpy as np\n",
    "my_house = np.array([18.0, 20.0, 10.75, 9.50])\n",
    "your_house = np.array([14.0, 24.0, 14.25, 9.0])\n",
    "\n",
    "# my_house greater than or equal to 18\n",
    "print(my_house >= 18)\n",
    "\n",
    "# my_house less than your_house\n",
    "print(my_house < your_house)"
   ]
  },
  {
   "cell_type": "markdown",
   "id": "eea74fb9-68ee-4187-89a4-1d1ed5d64f5c",
   "metadata": {},
   "source": [
    "## and, or, not (1)"
   ]
  },
  {
   "cell_type": "markdown",
   "id": "c387bb7a-5a76-4e2d-bfab-84ec51b4ab74",
   "metadata": {},
   "source": [
    "A boolean is either 1 or 0, True or False. With boolean operators such as and, or and not, you can combine these booleans to perform more advanced queries on your data.\n",
    "\n",
    "In the sample code, two variables are defined: my_kitchen and your_kitchen, representing areas.\n",
    "\n",
    "Instructions\n",
    "100 XP\n",
    "Write Python expressions, wrapped in a print() function, to check whether:\n",
    "my_kitchen is bigger than 10 and smaller than 18.\n",
    "my_kitchen is smaller than 14 or bigger than 17.\n",
    "double the area of my_kitchen is smaller than triple the area of your_kitchen."
   ]
  },
  {
   "cell_type": "code",
   "execution_count": null,
   "id": "1f8986b4-7399-4806-9460-2ce47e4e05bf",
   "metadata": {},
   "outputs": [],
   "source": [
    "# Define variables\n",
    "my_kitchen = 18.0\n",
    "your_kitchen = 14.0\n",
    "\n",
    "# my_kitchen bigger than 10 and smaller than 18?\n",
    "print(my_kitchen > 10 and my_kitchen < 18)\n",
    "\n",
    "# my_kitchen smaller than 14 or bigger than 17?\n",
    "print(my_kitchen < 14 or my_kitchen > 17)\n",
    "\n",
    "# Double my_kitchen smaller than triple your_kitchen?\n",
    "print(2*my_kitchen < 3*your_kitchen)"
   ]
  },
  {
   "cell_type": "markdown",
   "id": "87eaa852-cc72-4a4c-8fa6-699087a2069d",
   "metadata": {},
   "source": [
    "## Boolean operators with NumPy"
   ]
  },
  {
   "cell_type": "markdown",
   "id": "4c9d4d81-d149-43dd-9609-b7dce2ec2d39",
   "metadata": {},
   "source": [
    "Before, the operational operators like < and >= worked with NumPy arrays out of the box. Unfortunately, this is not true for the boolean operators and, or, and not.\n",
    "\n",
    "To use these operators with NumPy, you will need np.logical_and(), np.logical_or() and np.logical_not(). Here's an example on the my_house and your_house arrays from before to give you an idea:\n",
    "\n",
    "np.logical_and(my_house > 13, \n",
    "               your_house < 15)\n",
    "Instructions\n",
    "100 XP\n",
    "Generate boolean arrays that answer the following questions:\n",
    "Which areas in my_house are greater than 18.5 or smaller than 10?\n",
    "Which areas are smaller than 11 in both my_house and your_house? Make sure to wrap both commands in print() statement, so that you can inspect the output."
   ]
  },
  {
   "cell_type": "code",
   "execution_count": null,
   "id": "165dc2c3-fe95-4522-8387-8a60991a3816",
   "metadata": {},
   "outputs": [],
   "source": [
    "# Create arrays\n",
    "import numpy as np\n",
    "my_house = np.array([18.0, 20.0, 10.75, 9.50])\n",
    "your_house = np.array([14.0, 24.0, 14.25, 9.0])\n",
    "\n",
    "# my_house greater than 18.5 or smaller than 10\n",
    "print(np.logical_or(my_house > 18.5, my_house < 10))\n",
    "\n",
    "# Both my_house and your_house smaller than 11\n",
    "print(np.logical_and(my_house < 11, your_house < 11))"
   ]
  },
  {
   "cell_type": "markdown",
   "id": "9b30fa7d-7e24-4081-b7f8-849c31118004",
   "metadata": {},
   "source": [
    "## if"
   ]
  },
  {
   "cell_type": "markdown",
   "id": "dc37a077-e26f-4a95-a813-a894b154a2b8",
   "metadata": {},
   "source": [
    "It's time to take a closer look around in your house.\n",
    "\n",
    "Two variables are defined in the sample code: room, a string that tells you which room of the house we're looking at, and area, the area of that room.\n",
    "\n",
    "Instructions\n",
    "100 XP\n",
    "Examine the if statement that prints out \"looking around in the kitchen.\" if room equals \"kit\".\n",
    "Write another if statement that prints out \"big place!\" if area is greater than 15."
   ]
  },
  {
   "cell_type": "code",
   "execution_count": null,
   "id": "f88e52e1-accc-4e15-9f1b-794355b77bc1",
   "metadata": {},
   "outputs": [],
   "source": [
    "# Define variables\n",
    "room = \"kit\"\n",
    "area = 14.0\n",
    "\n",
    "# if statement for room\n",
    "if room == \"kit\" :\n",
    "    print(\"looking around in the kitchen.\")\n",
    "\n",
    "# if statement for area\n",
    "if area > 15:\n",
    "    print('big place!')"
   ]
  },
  {
   "cell_type": "markdown",
   "id": "11bb1d01-9bfa-4fa9-9920-2f9aec312bac",
   "metadata": {},
   "source": [
    "## Add else"
   ]
  },
  {
   "cell_type": "markdown",
   "id": "73fdd7f4-5a25-4b56-a21c-f3a38228bade",
   "metadata": {},
   "source": [
    "In the script, the if construct for room has been extended with an else statement so that \"looking around elsewhere.\" is printed if the condition room == \"kit\" evaluates to False.\n",
    "\n",
    "Can you do a similar thing to add more functionality to the if construct for area?\n",
    "\n",
    "Instructions\n",
    "100 XP\n",
    "Add an else statement to the second control structure so that \"pretty small.\" is printed out if area > 15 evaluates to False."
   ]
  },
  {
   "cell_type": "code",
   "execution_count": null,
   "id": "5a41fb44-c5c7-4c1f-8945-b3da0db4548d",
   "metadata": {},
   "outputs": [],
   "source": [
    "# Define variables\n",
    "room = \"kit\"\n",
    "area = 14.0\n",
    "\n",
    "# if-else construct for room\n",
    "if room == \"kit\" :\n",
    "    print(\"looking around in the kitchen.\")\n",
    "else :\n",
    "    print(\"looking around elsewhere.\")\n",
    "\n",
    "# if-else construct for area\n",
    "if area > 15 :\n",
    "    print(\"big place!\")\n",
    "else:\n",
    "    print('pretty small.')"
   ]
  },
  {
   "cell_type": "markdown",
   "id": "d03b77b5-eea8-4bf6-a55c-1fe975e6cec0",
   "metadata": {},
   "source": [
    "## Customize further: elif"
   ]
  },
  {
   "cell_type": "markdown",
   "id": "6f7df4a7-c600-428e-b83a-53e1f748cb2e",
   "metadata": {},
   "source": [
    "It's also possible to have a look around in the bedroom. The sample code contains an elif part that checks if room equals \"bed\". In that case, \"looking around in the bedroom.\" is printed out.\n",
    "\n",
    "It's up to you now! Make a similar addition to the second control structure to further customize the messages for different values of area.\n",
    "\n",
    "Instructions\n",
    "100 XP\n",
    "Add an elif to the second control structure such that \"medium size, nice!\" is printed out if area is greater than 10."
   ]
  },
  {
   "cell_type": "code",
   "execution_count": null,
   "id": "e681fb4b-ee67-41ce-b1e2-8ce5e2cb61db",
   "metadata": {},
   "outputs": [],
   "source": [
    "# Define variables\n",
    "room = \"bed\"\n",
    "area = 14.0\n",
    "\n",
    "# if-elif-else construct for room\n",
    "if room == \"kit\" :\n",
    "    print(\"looking around in the kitchen.\")\n",
    "elif room == \"bed\":\n",
    "    print(\"looking around in the bedroom.\")\n",
    "else :\n",
    "    print(\"looking around elsewhere.\")\n",
    "\n",
    "# if-elif-else construct for area\n",
    "if area > 15 :\n",
    "    print(\"big place!\")\n",
    "elif area > 10:\n",
    "    print('medium size, nice!')\n",
    "else :\n",
    "    print(\"pretty small.\")"
   ]
  },
  {
   "cell_type": "markdown",
   "id": "7b604b60-7666-401a-988f-f6508960cb2f",
   "metadata": {},
   "source": [
    "## Driving right (1)"
   ]
  },
  {
   "cell_type": "markdown",
   "id": "46bad190-b687-4407-9d88-474c8b88b025",
   "metadata": {},
   "source": [
    "Remember that cars dataset, containing the cars per 1000 people (cars_per_cap) and whether people drive right (drives_right) for different countries (country)? The code that imports this data in CSV format into Python as a DataFrame is included in the script.\n",
    "\n",
    "In the video, you saw a step-by-step approach to filter observations from a DataFrame based on boolean arrays. Let's start simple and try to find all observations in cars where drives_right is True.\n",
    "\n",
    "drives_right is a boolean column, so you'll have to extract it as a Series and then use this boolean Series to select observations from cars."
   ]
  },
  {
   "cell_type": "code",
   "execution_count": null,
   "id": "822d84a2-409e-459f-8cfd-1b4603cb43f5",
   "metadata": {},
   "outputs": [],
   "source": [
    "# Import cars data\n",
    "import pandas as pd\n",
    "cars = pd.read_csv('cars.csv', index_col = 0)\n",
    "\n",
    "# Extract drives_right column as Series: dr\n",
    "dr = cars['drives_right']\n",
    "\n",
    "# Use dr to subset cars: sel\n",
    "sel = cars[dr]\n",
    "\n",
    "# Print sel\n",
    "print(sel)"
   ]
  },
  {
   "cell_type": "markdown",
   "id": "fb46a3b6-f92d-40f8-8b7c-b995642e67c0",
   "metadata": {},
   "source": [
    "## Driving right (2)"
   ]
  },
  {
   "cell_type": "markdown",
   "id": "972332e3-ed15-4c1f-a653-2ed9ee39968a",
   "metadata": {},
   "source": [
    "The code in the previous example worked fine, but you actually unnecessarily created a new variable dr. You can achieve the same result without this intermediate variable. Put the code that computes dr straight into the square brackets that select observations from cars.\n",
    "\n",
    "Instructions\n",
    "100 XP\n",
    "Convert the code to a one-liner that calculates the variable sel as before."
   ]
  },
  {
   "cell_type": "code",
   "execution_count": null,
   "id": "ff0f88f4-59b9-436c-b49b-e8782f5fa671",
   "metadata": {},
   "outputs": [],
   "source": [
    "# Import cars data\n",
    "import pandas as pd\n",
    "cars = pd.read_csv('cars.csv', index_col = 0)\n",
    "\n",
    "# Convert code to a one-liner\n",
    "#dr = cars['drives_right']\n",
    "sel = cars[cars['drives_right']]\n",
    "\n",
    "# Print sel\n",
    "print(sel)"
   ]
  },
  {
   "cell_type": "markdown",
   "id": "c42cf363-b9ed-406d-ae2a-85efbedd2f46",
   "metadata": {},
   "source": []
  },
  {
   "cell_type": "markdown",
   "id": "5c59304f-2ede-48af-9712-c75ca1317702",
   "metadata": {},
   "source": []
  },
  {
   "cell_type": "code",
   "execution_count": null,
   "id": "ddaa9b8f-9137-47b4-81e2-04b341bdf798",
   "metadata": {},
   "outputs": [],
   "source": []
  },
  {
   "cell_type": "markdown",
   "id": "514c043d-c78e-4365-b664-adcdce9ccad0",
   "metadata": {},
   "source": []
  },
  {
   "cell_type": "markdown",
   "id": "9c70cd79-8cd6-494a-981a-7d3d53bc605d",
   "metadata": {},
   "source": []
  },
  {
   "cell_type": "code",
   "execution_count": null,
   "id": "9e0a0db3-cd3e-430e-98cd-9f3ff886e905",
   "metadata": {},
   "outputs": [],
   "source": []
  }
 ],
 "metadata": {
  "kernelspec": {
   "display_name": "Python 3 (ipykernel)",
   "language": "python",
   "name": "python3"
  },
  "language_info": {
   "codemirror_mode": {
    "name": "ipython",
    "version": 3
   },
   "file_extension": ".py",
   "mimetype": "text/x-python",
   "name": "python",
   "nbconvert_exporter": "python",
   "pygments_lexer": "ipython3",
   "version": "3.11.5"
  }
 },
 "nbformat": 4,
 "nbformat_minor": 5
}
