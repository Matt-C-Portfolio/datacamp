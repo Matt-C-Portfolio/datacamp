{
 "cells": [
  {
   "cell_type": "markdown",
   "id": "a9c1bb0d-6551-4173-bac6-3b9f54267096",
   "metadata": {},
   "source": [
    "# Intermediate Python - Case Study: Hacker Statistics"
   ]
  },
  {
   "cell_type": "markdown",
   "id": "570ba91d-67b4-44c8-8676-0bf4c28cc75e",
   "metadata": {},
   "source": [
    "## Random float"
   ]
  },
  {
   "cell_type": "markdown",
   "id": "db4c6dda-b626-4631-9112-22760211e6a8",
   "metadata": {},
   "source": [
    "Randomness has many uses in science, art, statistics, cryptography, gaming, gambling, and other fields. You're going to use randomness to simulate a game.\n",
    "\n",
    "All the functionality you need is contained in the random package, a sub-package of numpy. In this exercise, you'll be using two functions from this package:\n",
    "\n",
    "seed(): sets the random seed, so that your results are reproducible between simulations. As an argument, it takes an integer of your choosing. If you call the function, no output will be generated.\n",
    "rand(): if you don't specify any arguments, it generates a random float between zero and one."
   ]
  },
  {
   "cell_type": "code",
   "execution_count": null,
   "id": "e8fa32f6-9af6-49ed-b8c9-fe330e34d85f",
   "metadata": {},
   "outputs": [],
   "source": [
    "# Import numpy as np\n",
    "import numpy as np\n",
    "\n",
    "# Set the seed\n",
    "np.random.seed(123)\n",
    "\n",
    "# Generate and print random float\n",
    "print(np.random.rand())"
   ]
  },
  {
   "cell_type": "markdown",
   "id": "9b4e1cac-bbd6-4081-aa79-80d8ff1c4bf9",
   "metadata": {},
   "source": [
    "## Roll the dice"
   ]
  },
  {
   "cell_type": "markdown",
   "id": "150c627b-2864-4ff5-b1df-f827ada39468",
   "metadata": {},
   "source": [
    "In the previous exercise, you used rand(), that generates a random float between 0 and 1.\n",
    "\n",
    "As Hugo explained in the video you can just as well use randint(), also a function of the random package, to generate integers randomly. The following call generates the integer 4, 5, 6 or 7 randomly. 8 is not included.\n",
    "\n",
    "import numpy as np\n",
    "np.random.randint(4, 8)\n",
    "NumPy has already been imported as np and a seed has been set. Can you roll some dice?\n",
    "\n",
    "Instructions\n",
    "100 XP\n",
    "Use randint() with the appropriate arguments to randomly generate the integer 1, 2, 3, 4, 5 or 6. This simulates a dice. Print it out.\n",
    "Repeat the outcome to see if the second throw is different. Again, print out the result."
   ]
  },
  {
   "cell_type": "code",
   "execution_count": null,
   "id": "7b9f7a77-8370-4fbe-8f54-22b253f3217e",
   "metadata": {},
   "outputs": [],
   "source": [
    "# Import numpy and set seed\n",
    "import numpy as np\n",
    "np.random.seed(123)\n",
    "\n",
    "# Use randint() to simulate a dice\n",
    "print(np.random.randint(1, 7))\n",
    "\n",
    "# Use randint() again\n",
    "print(np.random.randint(1, 7))"
   ]
  },
  {
   "cell_type": "markdown",
   "id": "617fbe25-eba5-45d4-8672-f2eea29995a3",
   "metadata": {},
   "source": [
    "## Determine your next move"
   ]
  },
  {
   "cell_type": "markdown",
   "id": "97481ec6-db09-43df-9d72-6bd3a591b327",
   "metadata": {},
   "source": [
    "In the Empire State Building bet, your next move depends on the number you get after throwing the dice. We can perfectly code this with an if-elif-else construct!\n",
    "\n",
    "The sample code assumes that you're currently at step 50. Can you fill in the missing pieces to finish the script? numpy is already imported as np and the seed has been set to 123, so you don't have to worry about that anymore.\n",
    "\n",
    "Instructions\n",
    "100 XP\n",
    "Roll the dice. Use randint() to create the variable dice.\n",
    "Finish the if-elif-else construct by replacing ___:\n",
    "If dice is 1 or 2, you go one step down.\n",
    "if dice is 3, 4 or 5, you go one step up.\n",
    "Else, you throw the dice again. The number on the dice is the number of steps you go up.\n",
    "Print out dice and step. Given the value of dice, was step updated correctly?"
   ]
  },
  {
   "cell_type": "code",
   "execution_count": null,
   "id": "3b47bd5e-b3d8-4164-a812-d7d5fe320860",
   "metadata": {},
   "outputs": [],
   "source": [
    "# NumPy is imported, seed is set\n",
    "\n",
    "# Starting step\n",
    "step = 50\n",
    "\n",
    "# Roll the dice\n",
    "dice = np.random.randint(1,7)\n",
    "\n",
    "# Finish the control construct\n",
    "if dice <= 2 :\n",
    "    step = step - 1\n",
    "elif dice <= 5 :\n",
    "    step += 1\n",
    "else :\n",
    "    step = step + np.random.randint(1,7)\n",
    "\n",
    "# Print out dice and step\n",
    "print(str(dice) + ' ' + str(step))"
   ]
  },
  {
   "cell_type": "markdown",
   "id": "e9c2b62d-3cba-4dfe-ae86-286dca54fa4f",
   "metadata": {},
   "source": [
    "## The next step"
   ]
  },
  {
   "cell_type": "markdown",
   "id": "e5e4e4b8-f3ef-4356-b7c3-e05422fc9d5c",
   "metadata": {},
   "source": [
    "Before, you have already written Python code that determines the next step based on the previous step. Now it's time to put this code inside a for loop so that we can simulate a random walk.\n",
    "\n",
    "numpy has been imported as np.\n",
    "\n",
    "Instructions\n",
    "100 XP\n",
    "Make a list random_walk that contains the first step, which is the integer 0.\n",
    "Finish the for loop:\n",
    "The loop should run 100 times.\n",
    "On each iteration, set step equal to the last element in the random_walk list. You can use the index -1 for this.\n",
    "Next, let the if-elif-else construct update step for you.\n",
    "The code that appends step to random_walk is already coded.\n",
    "Print out random_walk."
   ]
  },
  {
   "cell_type": "code",
   "execution_count": null,
   "id": "a66aadb2-d98a-42ea-82d7-b46280a9cb12",
   "metadata": {},
   "outputs": [],
   "source": [
    "# NumPy is imported, seed is set\n",
    "\n",
    "# Initialize random_walk\n",
    "random_walk = [0]\n",
    "\n",
    "# Complete the ___\n",
    "for x in range(100) :\n",
    "    # Set step: last element in random_walk\n",
    "    step = random_walk[-1]\n",
    "\n",
    "    # Roll the dice\n",
    "    dice = np.random.randint(1,7)\n",
    "\n",
    "    # Determine next step\n",
    "    if dice <= 2:\n",
    "        step = step - 1\n",
    "    elif dice <= 5:\n",
    "        step = step + 1\n",
    "    else:\n",
    "        step = step + np.random.randint(1,7)\n",
    "\n",
    "    # append next_step to random_walk\n",
    "    random_walk.append(step)\n",
    "\n",
    "# Print random_walk\n",
    "print(random_walk)"
   ]
  },
  {
   "cell_type": "markdown",
   "id": "d75a4eda-6d0b-466e-b12f-6e4e7152b193",
   "metadata": {},
   "source": [
    "## How low can you go?"
   ]
  },
  {
   "cell_type": "markdown",
   "id": "788e2b5d-1715-4e8b-aca3-28fe092e6b7a",
   "metadata": {},
   "source": [
    "Things are shaping up nicely! You already have code that calculates your location in the Empire State Building after 100 dice throws. However, there's something we haven't thought about - you can't go below 0!\n",
    "\n",
    "A typical way to solve problems like this is by using max(). If you pass max() two arguments, the biggest one gets returned. For example, to make sure that a variable x never goes below 10 when you decrease it, you can use:\n",
    "\n",
    "x = max(10, x - 1)\n",
    "Instructions\n",
    "100 XP\n",
    "Use max() in a similar way to make sure that step doesn't go below zero if dice <= 2.\n",
    "Hit Submit Answer and check the contents of random_walk."
   ]
  },
  {
   "cell_type": "code",
   "execution_count": null,
   "id": "bec845a2-da8b-4c01-92ad-f86fa9b999ef",
   "metadata": {},
   "outputs": [],
   "source": [
    "# NumPy is imported, seed is set\n",
    "\n",
    "# Initialize random_walk\n",
    "random_walk = [0]\n",
    "\n",
    "for x in range(100) :\n",
    "    step = random_walk[-1]\n",
    "    dice = np.random.randint(1,7)\n",
    "\n",
    "    if dice <= 2:\n",
    "        # Replace below: use max to make sure step can't go below 0\n",
    "        step = max(0, step - 1)\n",
    "    elif dice <= 5:\n",
    "        step = step + 1\n",
    "    else:\n",
    "        step = step + np.random.randint(1,7)\n",
    "\n",
    "    random_walk.append(step)\n",
    "\n",
    "print(random_walk)"
   ]
  },
  {
   "cell_type": "markdown",
   "id": "0cb1b9ee-ed73-4a7f-b5f9-50c42e3c1788",
   "metadata": {},
   "source": [
    "## Visualize the walk"
   ]
  },
  {
   "cell_type": "markdown",
   "id": "3db66f2f-2eb8-41db-9d05-2af66a1d3b7f",
   "metadata": {},
   "source": [
    "Let's visualize this random walk! Remember how you could use matplotlib to build a line plot?\n",
    "\n",
    "import matplotlib.pyplot as plt\n",
    "plt.plot(x, y)\n",
    "plt.show()\n",
    "The first list you pass is mapped onto the x axis and the second list is mapped onto the y axis.\n",
    "\n",
    "If you pass only one argument, Python will know what to do and will use the index of the list to map onto the x axis, and the values in the list onto the y axis.\n",
    "\n",
    "Instructions\n",
    "100 XP\n",
    "Add some lines of code after the for loop:\n",
    "\n",
    "Import matplotlib.pyplot as plt.\n",
    "Use plt.plot() to plot random_walk.\n",
    "Finish off with plt.show() to actually display the plot."
   ]
  },
  {
   "cell_type": "code",
   "execution_count": null,
   "id": "4502d4e6-2ef6-42ea-bd32-d0e711b2316e",
   "metadata": {},
   "outputs": [],
   "source": [
    "# NumPy is imported, seed is set\n",
    "\n",
    "# Initialization\n",
    "random_walk = [0]\n",
    "\n",
    "for x in range(100) :\n",
    "    step = random_walk[-1]\n",
    "    dice = np.random.randint(1,7)\n",
    "\n",
    "    if dice <= 2:\n",
    "        step = max(0, step - 1)\n",
    "    elif dice <= 5:\n",
    "        step = step + 1\n",
    "    else:\n",
    "        step = step + np.random.randint(1,7)\n",
    "\n",
    "    random_walk.append(step)\n",
    "\n",
    "# Import matplotlib.pyplot as plt\n",
    "import matplotlib.pyplot as plt\n",
    "\n",
    "# Plot random_walk\n",
    "plt.plot(random_walk)\n",
    "\n",
    "# Show the plot\n",
    "plt.show()"
   ]
  },
  {
   "cell_type": "markdown",
   "id": "bbf802fa-ec50-44cd-b08b-913b85d75cf1",
   "metadata": {},
   "source": [
    "## Simulate multiple walks"
   ]
  },
  {
   "cell_type": "markdown",
   "id": "fd16f7b7-f9a2-4ac5-b5d7-55a5234dd5e0",
   "metadata": {},
   "source": [
    "A single random walk is one thing, but that doesn't tell you if you have a good chance at winning the bet.\n",
    "\n",
    "To get an idea about how big your chances are of reaching 60 steps, you can repeatedly simulate the random walk and collect the results. That's exactly what you'll do in this exercise.\n",
    "\n",
    "The sample code already sets you off in the right direction. Another for loop is wrapped around the code you already wrote. It's up to you to add some bits and pieces to make sure all of the results are recorded correctly.\n",
    "\n",
    "Note: Don't change anything about the initialization of all_walks that is given. Setting any number inside the list will cause the exercise to crash!\n",
    "\n",
    "Instructions\n",
    "100 XP\n",
    "Fill in the specification of the for loop so that the random walk is simulated five times.\n",
    "After the random_walk array is entirely populated, append the array to the all_walks list.\n",
    "Finally, after the top-level for loop, print out all_walks."
   ]
  },
  {
   "cell_type": "code",
   "execution_count": null,
   "id": "20117c56-b4ef-4dad-b515-230fb845a874",
   "metadata": {},
   "outputs": [],
   "source": [
    "# NumPy is imported; seed is set\n",
    "\n",
    "# Initialize all_walks (don't change this line)\n",
    "all_walks = []\n",
    "\n",
    "# Simulate random walk five times\n",
    "for i in range(5) :\n",
    "\n",
    "    # Code from before\n",
    "    random_walk = [0]\n",
    "    for x in range(100) :\n",
    "        step = random_walk[-1]\n",
    "        dice = np.random.randint(1,7)\n",
    "\n",
    "        if dice <= 2:\n",
    "            step = max(0, step - 1)\n",
    "        elif dice <= 5:\n",
    "            step = step + 1\n",
    "        else:\n",
    "            step = step + np.random.randint(1,7)\n",
    "        random_walk.append(step)\n",
    "\n",
    "    # Append random_walk to all_walks\n",
    "    all_walks.append(random_walk)\n",
    "\n",
    "# Print all_walks\n",
    "print(all_walks)"
   ]
  },
  {
   "cell_type": "markdown",
   "id": "605c1c81-60e8-4736-8df4-2b54571408e7",
   "metadata": {},
   "source": [
    "## Visualize all walks"
   ]
  },
  {
   "cell_type": "markdown",
   "id": "f78c125d-6ffd-48eb-81d4-f35626bc7e4e",
   "metadata": {},
   "source": [
    "all_walks is a list of lists: every sub-list represents a single random walk. If you convert this list of lists to a NumPy array, you can start making interesting plots! matplotlib.pyplot is already imported as plt.\n",
    "\n",
    "The nested for loop is already coded for you - don't worry about it. For now, focus on the code that comes after this for loop.\n",
    "\n",
    "Instructions\n",
    "100 XP\n",
    "Use np.array() to convert all_walks to a NumPy array, np_aw.\n",
    "Try to use plt.plot() on np_aw. Also include plt.show(). Does it work out of the box?\n",
    "Transpose np_aw by calling np.transpose() on np_aw. Call the result np_aw_t. Now every row in np_all_walks represents the position after 1 throw for the five random walks.\n",
    "Use plt.plot() to plot np_aw_t; also include a plt.show(). Does it look better this time?"
   ]
  },
  {
   "cell_type": "code",
   "execution_count": null,
   "id": "7396ae33-3e7b-4e08-9b4b-781be1b3235d",
   "metadata": {},
   "outputs": [],
   "source": [
    "# numpy and matplotlib imported, seed set.\n",
    "\n",
    "# initialize and populate all_walks\n",
    "all_walks = []\n",
    "for i in range(5) :\n",
    "    random_walk = [0]\n",
    "    for x in range(100) :\n",
    "        step = random_walk[-1]\n",
    "        dice = np.random.randint(1,7)\n",
    "        if dice <= 2:\n",
    "            step = max(0, step - 1)\n",
    "        elif dice <= 5:\n",
    "            step = step + 1\n",
    "        else:\n",
    "            step = step + np.random.randint(1,7)\n",
    "        random_walk.append(step)\n",
    "    all_walks.append(random_walk)\n",
    "\n",
    "# Convert all_walks to NumPy array: np_aw\n",
    "np_aw = np.array(all_walks)\n",
    "\n",
    "# Plot np_aw and show\n",
    "plt.plot(np_aw)\n",
    "plt.show()\n",
    "\n",
    "# Clear the figure\n",
    "plt.clf()\n",
    "\n",
    "# Transpose np_aw: np_aw_t\n",
    "np_aw_t = np.transpose(np_aw)\n",
    "\n",
    "# Plot np_aw_t and show\n",
    "plt.plot(np_aw_t)\n",
    "plt.show()"
   ]
  },
  {
   "cell_type": "markdown",
   "id": "d575d25d-fac0-48da-95f1-6994373899a4",
   "metadata": {},
   "source": [
    "## Implement clumsiness"
   ]
  },
  {
   "cell_type": "markdown",
   "id": "66794ecc-1fe6-4161-8707-a51e00efa4c6",
   "metadata": {},
   "source": [
    "With this neatly written code of yours, changing the number of times the random walk should be simulated is super-easy. You simply update the range() function in the top-level for loop.\n",
    "\n",
    "There's still something we forgot! You're a bit clumsy and you have a 0.5% chance of falling down. That calls for another random number generation. Basically, you can generate a random float between 0 and 1. If this value is less than or equal to 0.005, you should reset step to 0.\n",
    "\n",
    "Instructions\n",
    "100 XP\n",
    "Change the range() function so that the simulation is performed 20 times.\n",
    "Finish the if condition so that step is set to 0 if a random float is less or equal to 0.005. Use np.random.rand()."
   ]
  },
  {
   "cell_type": "code",
   "execution_count": null,
   "id": "8abfe8e7-35e7-4c55-aee0-c67eadfa277f",
   "metadata": {},
   "outputs": [],
   "source": [
    "# numpy and matplotlib imported, seed set\n",
    "\n",
    "# clear the plot so it doesn't get cluttered if you run this many times\n",
    "plt.clf()\n",
    "\n",
    "# Simulate random walk 20 times\n",
    "all_walks = []\n",
    "for i in range(20) :\n",
    "    random_walk = [0]\n",
    "    for x in range(100) :\n",
    "        step = random_walk[-1]\n",
    "        dice = np.random.randint(1,7)\n",
    "        if dice <= 2:\n",
    "            step = max(0, step - 1)\n",
    "        elif dice <= 5:\n",
    "            step = step + 1\n",
    "        else:\n",
    "            step = step + np.random.randint(1,7)\n",
    "\n",
    "        # Implement clumsiness\n",
    "        if np.random.rand() <= .005 :\n",
    "            step = 0\n",
    "\n",
    "        random_walk.append(step)\n",
    "    all_walks.append(random_walk)\n",
    "\n",
    "# Create and plot np_aw_t\n",
    "np_aw_t = np.transpose(np.array(all_walks))\n",
    "plt.plot(np_aw_t)\n",
    "plt.show()"
   ]
  },
  {
   "cell_type": "markdown",
   "id": "77c71dd9-5ced-4292-8ea2-51cc4fee6853",
   "metadata": {},
   "source": [
    "## Plot the distribution"
   ]
  },
  {
   "cell_type": "markdown",
   "id": "b507b6f6-2a89-4e4d-a318-26fc95a6fe65",
   "metadata": {},
   "source": [
    "All these fancy visualizations have put us on a sidetrack. We still have to solve the million-dollar problem: What are the odds that you'll reach 60 steps high on the Empire State Building?\n",
    "\n",
    "Basically, you want to know about the end points of all the random walks you've simulated. These end points have a certain distribution that you can visualize with a histogram.\n",
    "\n",
    "Note that if your code is taking too long to run, you might be plotting a histogram of the wrong data!\n",
    "\n",
    "Instructions\n",
    "100 XP\n",
    "To make sure we've got enough simulations, go crazy. Simulate the random walk 500 times.\n",
    "From np_aw_t, select the last row. This contains the endpoint of all 500 random walks you've simulated. Store this NumPy array as ends.\n",
    "Use plt.hist() to build a histogram of ends. Don't forget plt.show() to display the plot."
   ]
  },
  {
   "cell_type": "code",
   "execution_count": null,
   "id": "e20318a6-2dcb-4ea4-811d-d70ec7b5f831",
   "metadata": {},
   "outputs": [],
   "source": [
    "# numpy and matplotlib imported, seed set\n",
    "\n",
    "# Simulate random walk 500 times\n",
    "all_walks = []\n",
    "for i in range(500) :\n",
    "    random_walk = [0]\n",
    "    for x in range(100) :\n",
    "        step = random_walk[-1]\n",
    "        dice = np.random.randint(1,7)\n",
    "        if dice <= 2:\n",
    "            step = max(0, step - 1)\n",
    "        elif dice <= 5:\n",
    "            step = step + 1\n",
    "        else:\n",
    "            step = step + np.random.randint(1,7)\n",
    "        if np.random.rand() <= 0.001 :\n",
    "            step = 0\n",
    "        random_walk.append(step)\n",
    "    all_walks.append(random_walk)\n",
    "\n",
    "# Create and plot np_aw_t\n",
    "np_aw_t = np.transpose(np.array(all_walks))\n",
    "\n",
    "# Select last row from np_aw_t: ends\n",
    "ends = np_aw_t[-1, :]\n",
    "\n",
    "# Plot histogram of ends, display plot\n",
    "plt.hist(ends, bins = 10)\n",
    "plt.show()"
   ]
  }
 ],
 "metadata": {
  "kernelspec": {
   "display_name": "Python 3 (ipykernel)",
   "language": "python",
   "name": "python3"
  },
  "language_info": {
   "codemirror_mode": {
    "name": "ipython",
    "version": 3
   },
   "file_extension": ".py",
   "mimetype": "text/x-python",
   "name": "python",
   "nbconvert_exporter": "python",
   "pygments_lexer": "ipython3",
   "version": "3.11.5"
  }
 },
 "nbformat": 4,
 "nbformat_minor": 5
}
