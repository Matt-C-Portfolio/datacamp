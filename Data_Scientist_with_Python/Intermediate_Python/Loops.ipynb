{
 "cells": [
  {
   "cell_type": "markdown",
   "id": "035de567-a7b8-4dcd-bfe3-734c7868387f",
   "metadata": {},
   "source": [
    "# Intermediate Python: Loops"
   ]
  },
  {
   "cell_type": "markdown",
   "id": "59ecd245-cc3a-4726-8d04-29ff3d69ed6e",
   "metadata": {},
   "source": [
    "## Basic while loop"
   ]
  },
  {
   "cell_type": "markdown",
   "id": "860ae220-209a-491a-afb9-ea158d652cff",
   "metadata": {
    "tags": []
   },
   "source": [
    "Below you can find the example from the video where the error variable, initially equal to 50.0, is divided by 4 and printed out on every run:\n",
    "\n",
    "error = 50.0\n",
    "while error > 1 :\n",
    "    error = error / 4\n",
    "    print(error)\n",
    "This example will come in handy, because it's time to build a while loop yourself! We're going to code a while loop that implements a very basic control system for an inverted pendulum. If there's an offset from standing perfectly straight, the while loop will incrementally fix this offset.\n",
    "\n",
    "Note that if your while loop takes too long to run, you might have made a mistake. In particular, remember to indent the contents of the loop using four spaces or auto-indentation!\n",
    "\n",
    "Instructions\n",
    "100 XP\n",
    "Create the variable offset with an initial value of 8.\n",
    "Code a while loop that keeps running as long as offset is not equal to 0. Inside the while loop:\n",
    "Print out the sentence \"correcting...\".\n",
    "Next, decrease the value of offset by 1. You can do this with offset = offset - 1.\n",
    "Finally, still within your loop, print out offset so you can see how it changes."
   ]
  },
  {
   "cell_type": "code",
   "execution_count": null,
   "id": "a3546e53-23a5-48e2-93e9-8c16ffb5610f",
   "metadata": {},
   "outputs": [],
   "source": [
    "# Initialize offset\n",
    "offset = 8\n",
    "\n",
    "# Code the while loop\n",
    "while offset != 0:\n",
    "    print('correcting...')\n",
    "    offset -=1\n",
    "    print(offset)"
   ]
  },
  {
   "cell_type": "markdown",
   "id": "85e6cd74-947b-4a32-bd05-61d246ff11ca",
   "metadata": {},
   "source": [
    "## Add conditionals"
   ]
  },
  {
   "cell_type": "markdown",
   "id": "d3d39e54-0972-4446-87cf-88694a98de19",
   "metadata": {},
   "source": [
    "The while loop that corrects the offset is a good start, but what if offset is negative? You can try to run the following code where offset is initialized to -6:\n",
    "\n",
    "# Initialize offset\n",
    "offset = -6\n",
    "\n",
    "# Code the while loop\n",
    "while offset != 0 :\n",
    "    print(\"correcting...\")\n",
    "    offset = offset - 1\n",
    "    print(offset)\n",
    "but your session will be disconnected. The while loop will never stop running, because offset will be further decreased on every run. offset != 0 will never become False and the while loop continues forever.\n",
    "\n",
    "Fix things by putting an if-else statement inside the while loop. If your code is still taking too long to run, you probably made a mistake!\n",
    "\n",
    "Instructions\n",
    "100 XP\n",
    "Inside the while loop, complete the if-else statement:\n",
    "If offset is greater than zero, you should decrease offset by 1.\n",
    "Else, you should increase offset by 1.\n",
    "If you've coded things correctly, hitting Submit Answer should work this time.\n",
    "If your code is still taking too long to run (or your session is expiring), you probably made a mistake. Check your code and make sure that the statement offset != 0 will eventually evaluate to FALSE!"
   ]
  },
  {
   "cell_type": "code",
   "execution_count": null,
   "id": "9f4efb29-a2b1-4524-a03e-3f45755c6834",
   "metadata": {},
   "outputs": [],
   "source": [
    "# Initialize offset\n",
    "offset = -6\n",
    "\n",
    "# Code the while loop\n",
    "while offset != 0 :\n",
    "    print(\"correcting...\")\n",
    "    if offset > 0 :\n",
    "      offset-=1\n",
    "    else : \n",
    "      offset+=1    \n",
    "    print(offset)"
   ]
  },
  {
   "cell_type": "markdown",
   "id": "0e0d883f-b591-42df-b1de-3fdabdb5cad5",
   "metadata": {},
   "source": [
    "## Loop over a list"
   ]
  },
  {
   "cell_type": "markdown",
   "id": "1692caa9-8a34-49a5-a5bf-18329ba0964b",
   "metadata": {},
   "source": [
    "Have another look at the for loop that Hugo showed in the video:\n",
    "\n",
    "fam = [1.73, 1.68, 1.71, 1.89]\n",
    "for height in fam : \n",
    "    print(height)\n",
    "As usual, you simply have to indent the code with 4 spaces to tell Python which code should be executed in the for loop.\n",
    "\n",
    "The areas variable, containing the area of different rooms in your house, is already defined.\n",
    "\n",
    "Instructions\n",
    "100 XP\n",
    "Write a for loop that iterates over all elements of the areas list and prints out every element separately."
   ]
  },
  {
   "cell_type": "code",
   "execution_count": null,
   "id": "c9a683b0-a555-4aa1-b188-b4228fed00cc",
   "metadata": {},
   "outputs": [],
   "source": [
    "# areas list\n",
    "areas = [11.25, 18.0, 20.0, 10.75, 9.50]\n",
    "\n",
    "# Code the for loop\n",
    "for area in areas:\n",
    "    print(area)"
   ]
  },
  {
   "cell_type": "markdown",
   "id": "4c9021cc-f300-4012-a2cc-f0482232b61d",
   "metadata": {},
   "source": [
    "## Indexes and values (1)"
   ]
  },
  {
   "cell_type": "markdown",
   "id": "aefaa756-e826-47a0-98ee-4dac536e69b7",
   "metadata": {},
   "source": [
    "Using a for loop to iterate over a list only gives you access to every list element in each run, one after the other. If you also want to access the index information, so where the list element you're iterating over is located, you can use enumerate().\n",
    "\n",
    "As an example, have a look at how the for loop from the video was converted:\n",
    "\n",
    "fam = [1.73, 1.68, 1.71, 1.89]\n",
    "for index, height in enumerate(fam) :\n",
    "    print(\"person \" + str(index) + \": \" + str(height))\n",
    "Instructions\n",
    "100 XP\n",
    "Adapt the for loop in the sample code to use enumerate() and use two iterator variables.\n",
    "Update the print() statement so that on each run, a line of the form \"room x: y\" should be printed, where x is the index of the list element and y is the actual list element, i.e. the area. Make sure to print out this exact string, with the correct spacing."
   ]
  },
  {
   "cell_type": "code",
   "execution_count": null,
   "id": "b30f4b31-af4b-450b-82c5-4fe0f7e1c5fa",
   "metadata": {},
   "outputs": [],
   "source": [
    "# areas list\n",
    "areas = [11.25, 18.0, 20.0, 10.75, 9.50]\n",
    "\n",
    "# Change for loop to use enumerate() and update print()\n",
    "for a, b in enumerate(areas) :\n",
    "    print('room ' + str(a) + ': ' + str(b))"
   ]
  },
  {
   "cell_type": "markdown",
   "id": "fa25b568-2138-443d-8417-8d808c023d5e",
   "metadata": {},
   "source": [
    "## Indexes and values (2)"
   ]
  },
  {
   "cell_type": "markdown",
   "id": "49af60ee-9147-4e71-b327-9aff24be1add",
   "metadata": {},
   "source": [
    "For non-programmer folks, room 0: 11.25 is strange. Wouldn't it be better if the count started at 1?\n",
    "\n",
    "Instructions\n",
    "100 XP\n",
    "Adapt the print() function in the for loop so that the first printout becomes \"room 1: 11.25\", the second one \"room 2: 18.0\" and so on."
   ]
  },
  {
   "cell_type": "code",
   "execution_count": null,
   "id": "00f7fb57-65ff-4fc0-a34d-f8f9a734bf34",
   "metadata": {},
   "outputs": [],
   "source": [
    "# areas list\n",
    "areas = [11.25, 18.0, 20.0, 10.75, 9.50]\n",
    "\n",
    "# Code the for loop\n",
    "for index, area in enumerate(areas) :\n",
    "    print(\"room \" + str(index + 1) + \": \" + str(area))"
   ]
  },
  {
   "cell_type": "markdown",
   "id": "86ab1d7b-2d74-4beb-8c95-4bb934f0c1df",
   "metadata": {
    "tags": []
   },
   "source": [
    "## Loop over list of lists"
   ]
  },
  {
   "cell_type": "markdown",
   "id": "480f71b2-2b10-4220-a231-a21286762b1a",
   "metadata": {},
   "source": [
    "Remember the house variable from the Intro to Python course? Have a look at its definition in the script. It's basically a list of lists, where each sublist contains the name and area of a room in your house.\n",
    "\n",
    "It's up to you to build a for loop from scratch this time!"
   ]
  },
  {
   "cell_type": "code",
   "execution_count": null,
   "id": "f567eb11-078b-4797-a06f-aa6911d59782",
   "metadata": {},
   "outputs": [],
   "source": [
    "# house list of lists\n",
    "house = [[\"hallway\", 11.25], \n",
    "         [\"kitchen\", 18.0], \n",
    "         [\"living room\", 20.0], \n",
    "         [\"bedroom\", 10.75], \n",
    "         [\"bathroom\", 9.50]]\n",
    "         \n",
    "# Build a for loop from scratch\n",
    "for x, y in house:\n",
    "    print('the ' + x + ' is ' + str(y) + ' sqm')"
   ]
  },
  {
   "cell_type": "markdown",
   "id": "741c720c-f1e5-4782-bc20-1b0062efa743",
   "metadata": {},
   "source": [
    "## Loop over dictionary"
   ]
  },
  {
   "cell_type": "markdown",
   "id": "95eddc9a-6dc8-469c-b3f4-eea1529f9f81",
   "metadata": {},
   "source": [
    "In Python 3, you need the items() method to loop over a dictionary:\n",
    "\n",
    "world = { \"afghanistan\":30.55, \n",
    "          \"albania\":2.77,\n",
    "          \"algeria\":39.21 }\n",
    "\n",
    "for key, value in world.items() :\n",
    "    print(key + \" -- \" + str(value))\n",
    "Remember the europe dictionary that contained the names of some European countries as key and their capitals as corresponding value? Go ahead and write a loop to iterate over it!\n",
    "\n",
    "Instructions\n",
    "100 XP\n",
    "Write a for loop that goes through each key:value pair of europe. On each iteration, \"the capital of x is y\" should be printed out, where x is the key and y is the value of the pair."
   ]
  },
  {
   "cell_type": "code",
   "execution_count": null,
   "id": "8fffef79-d7e8-4d91-8a3f-6b50af14e52d",
   "metadata": {},
   "outputs": [],
   "source": [
    "# Definition of dictionary\n",
    "europe = {'spain':'madrid', 'france':'paris', 'germany':'berlin',\n",
    "          'norway':'oslo', 'italy':'rome', 'poland':'warsaw', 'austria':'vienna' }\n",
    "          \n",
    "# Iterate over europe\n",
    "for key, value in europe.items():\n",
    "    print('the capital of ' + key + ' is ' + value)"
   ]
  },
  {
   "cell_type": "markdown",
   "id": "7487c8df-a405-426c-97c4-d49a84b346c9",
   "metadata": {},
   "source": [
    "## Loop over NumPy array"
   ]
  },
  {
   "cell_type": "markdown",
   "id": "8623ea22-1b91-4bf9-bfed-c3674125665d",
   "metadata": {},
   "source": [
    "If you're dealing with a 1D NumPy array, looping over all elements can be as simple as:\n",
    "\n",
    "for x in my_array :\n",
    "    ...\n",
    "If you're dealing with a 2D NumPy array, it's more complicated. A 2D array is built up of multiple 1D arrays. To explicitly iterate over all separate elements of a multi-dimensional array, you'll need this syntax:\n",
    "\n",
    "for x in np.nditer(my_array) :\n",
    "    ...\n",
    "Two NumPy arrays that you might recognize from the intro course are available in your Python session: np_height, a NumPy array containing the heights of Major League Baseball players, and np_baseball, a 2D NumPy array that contains both the heights (first column) and weights (second column) of those players.\n",
    "\n",
    "Instructions\n",
    "100 XP\n",
    "Import the numpy package under the local alias np.\n",
    "Write a for loop that iterates over all elements in np_height and prints out \"x inches\" for each element, where x is the value in the array.\n",
    "Write a for loop that visits every element of the np_baseball array and prints it out."
   ]
  },
  {
   "cell_type": "code",
   "execution_count": null,
   "id": "77ab572b-10ee-4ef7-9f64-169fca701587",
   "metadata": {},
   "outputs": [],
   "source": [
    "# Import numpy as np\n",
    "import numpy as np\n",
    "\n",
    "# For loop over np_height\n",
    "for height in np_height:\n",
    "    print(str(height) + ' inches')\n",
    "\n",
    "# For loop over np_baseball\n",
    "for x in np.nditer(np_baseball):\n",
    "    print(x)"
   ]
  },
  {
   "cell_type": "markdown",
   "id": "b2d32d79-4517-45b7-a404-c9007e474a2e",
   "metadata": {},
   "source": [
    "## Loop over DataFrame (1)"
   ]
  },
  {
   "cell_type": "markdown",
   "id": "ea1a38bf-00b9-43d0-adbf-605b18868e75",
   "metadata": {},
   "source": [
    "Iterating over a Pandas DataFrame is typically done with the iterrows() method. Used in a for loop, every observation is iterated over and on every iteration the row label and actual row contents are available:\n",
    "\n",
    "for lab, row in brics.iterrows() :\n",
    "    ...\n",
    "In this and the following exercises you will be working on the cars DataFrame. It contains information on the cars per capita and whether people drive right or left for seven countries in the world.\n",
    "\n",
    "Instructions\n",
    "100 XP\n",
    "Write a for loop that iterates over the rows of cars and on each iteration perform two print() calls: one to print out the row label and one to print out all of the rows contents."
   ]
  },
  {
   "cell_type": "code",
   "execution_count": null,
   "id": "94eb372e-246b-4e8c-9b23-cefcaa3503cc",
   "metadata": {},
   "outputs": [],
   "source": [
    "# Import cars data\n",
    "import pandas as pd\n",
    "cars = pd.read_csv('cars.csv', index_col = 0)\n",
    "\n",
    "# Iterate over rows of cars\n",
    "for label, value in cars.iterrows():\n",
    "    print(label)\n",
    "    print(value)"
   ]
  },
  {
   "cell_type": "markdown",
   "id": "fd94c744-0b40-402d-b433-36eac908b8bb",
   "metadata": {},
   "source": [
    "## Loop over DataFrame (2)"
   ]
  },
  {
   "cell_type": "markdown",
   "id": "f8267e32-a9df-4edf-82de-51784bd6b595",
   "metadata": {},
   "source": [
    "The row data that's generated by iterrows() on every run is a Pandas Series. This format is not very convenient to print out. Luckily, you can easily select variables from the Pandas Series using square brackets:\n",
    "\n",
    "for lab, row in brics.iterrows() :\n",
    "    print(row['country'])\n",
    "Instructions\n",
    "100 XP\n",
    "Using the iterators lab and row, adapt the code in the for loop such that the first iteration prints out \"US: 809\", the second iteration \"AUS: 731\", and so on.\n",
    "The output should be in the form \"country: cars_per_cap\". Make sure to print out this exact string (with the correct spacing).\n",
    "You can use str() to convert your integer data to a string so that you can print it in conjunction with the country label.\n"
   ]
  },
  {
   "cell_type": "code",
   "execution_count": null,
   "id": "afed7152-67ae-4a61-94b2-6a3f5272a8de",
   "metadata": {},
   "outputs": [],
   "source": [
    "# Import cars data\n",
    "import pandas as pd\n",
    "cars = pd.read_csv('cars.csv', index_col = 0)\n",
    "\n",
    "# Adapt for loop\n",
    "for lab, row in cars.iterrows() :\n",
    "    #print(lab)\n",
    "    print(lab + ': ' + str(row['cars_per_cap']))"
   ]
  },
  {
   "cell_type": "markdown",
   "id": "d4f9299d-b326-41b1-beb3-a979f4173eae",
   "metadata": {},
   "source": [
    "## Add column (1)"
   ]
  },
  {
   "cell_type": "markdown",
   "id": "80213f2e-a980-4fb9-b98e-9ee7da95c811",
   "metadata": {},
   "source": [
    "In the video, Hugo showed you how to add the length of the country names of the brics DataFrame in a new column:\n",
    "\n",
    "for lab, row in brics.iterrows() :\n",
    "    brics.loc[lab, \"name_length\"] = len(row[\"country\"])\n",
    "You can do similar things on the cars DataFrame.\n",
    "\n",
    "Instructions\n",
    "100 XP\n",
    "Use a for loop to add a new column, named COUNTRY, that contains a uppercase version of the country names in the \"country\" column. You can use the string method upper() for this.\n",
    "To see if your code worked, print out cars. Don't indent this code, so that it's not part of the for loop."
   ]
  },
  {
   "cell_type": "code",
   "execution_count": null,
   "id": "6a00be34-a4d9-40c6-92c6-2e477c032b26",
   "metadata": {},
   "outputs": [],
   "source": [
    "# Import cars data\n",
    "import pandas as pd\n",
    "cars = pd.read_csv('cars.csv', index_col = 0)\n",
    "\n",
    "# Code for loop that adds COUNTRY column\n",
    "for lab, row in cars.iterrows():\n",
    "    cars.loc[lab, 'COUNTRY'] = row['country'].upper()\n",
    "\n",
    "\n",
    "# Print cars\n",
    "print(cars)"
   ]
  },
  {
   "cell_type": "markdown",
   "id": "c23f4390-6279-4916-8ef0-e2e2f94b1368",
   "metadata": {
    "tags": []
   },
   "source": [
    "## Add column (2)"
   ]
  },
  {
   "cell_type": "markdown",
   "id": "144f8b17-22cf-485d-8391-3f55c43c3f9d",
   "metadata": {},
   "source": [
    "Using iterrows() to iterate over every observation of a Pandas DataFrame is easy to understand, but not very efficient. On every iteration, you're creating a new Pandas Series.\n",
    "\n",
    "If you want to add a column to a DataFrame by calling a function on another column, the iterrows() method in combination with a for loop is not the preferred way to go. Instead, you'll want to use apply().\n",
    "\n",
    "Compare the iterrows() version with the apply() version to get the same result in the brics DataFrame:\n",
    "\n",
    "for lab, row in brics.iterrows() :\n",
    "    brics.loc[lab, \"name_length\"] = len(row[\"country\"])\n",
    "\n",
    "brics[\"name_length\"] = brics[\"country\"].apply(len)\n",
    "We can do a similar thing to call the upper() method on every name in the country column. However, upper() is a method, so we'll need a slightly different approach:\n",
    "\n",
    "Instructions\n",
    "100 XP\n",
    "Replace the for loop with a one-liner that uses .apply(str.upper). The call should give the same result: a column COUNTRY should be added to cars, containing an uppercase version of the country names.\n",
    "As usual, print out cars to see the fruits of your hard labor"
   ]
  },
  {
   "cell_type": "code",
   "execution_count": null,
   "id": "4bfa70bc-1aa2-4d00-b327-caa32f9a3727",
   "metadata": {},
   "outputs": [],
   "source": [
    "# Import cars data\n",
    "import pandas as pd\n",
    "cars = pd.read_csv('cars.csv', index_col = 0)\n",
    "\n",
    "# Use .apply(str.upper)\n",
    "#for lab, row in cars.iterrows() :\n",
    "    #cars.loc[lab, \"COUNTRY\"] = row[\"country\"].upper()\n",
    "cars['COUNTRY'] = cars['country'].apply(str.upper)\n",
    "print(cars)"
   ]
  }
 ],
 "metadata": {
  "kernelspec": {
   "display_name": "Python 3 (ipykernel)",
   "language": "python",
   "name": "python3"
  },
  "language_info": {
   "codemirror_mode": {
    "name": "ipython",
    "version": 3
   },
   "file_extension": ".py",
   "mimetype": "text/x-python",
   "name": "python",
   "nbconvert_exporter": "python",
   "pygments_lexer": "ipython3",
   "version": "3.11.5"
  }
 },
 "nbformat": 4,
 "nbformat_minor": 5
}
