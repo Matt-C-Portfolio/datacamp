{
 "cells": [
  {
   "cell_type": "markdown",
   "id": "b9d9b20c-d6c7-4d60-b026-b7bc45580b70",
   "metadata": {},
   "source": [
    "# Intermediate Python: Dictionaries & Pandas"
   ]
  },
  {
   "cell_type": "markdown",
   "id": "6a532a15-d0ae-489e-82aa-f090764d4b8d",
   "metadata": {
    "tags": []
   },
   "source": [
    "## Motivation for dictionaries"
   ]
  },
  {
   "cell_type": "markdown",
   "id": "20d8b650-381b-4015-8e91-9b2af550c9fc",
   "metadata": {},
   "source": [
    "To see why dictionaries are useful, have a look at the two lists defined in the script. countries contains the names of some European countries. capitals lists the corresponding names of their capital.\n",
    "\n",
    "Instructions\n",
    "100 XP\n",
    "Use the index() method on countries to find the index of 'germany'. Store this index as ind_ger.\n",
    "Use ind_ger to access the capital of Germany from the capitals list. Print it out."
   ]
  },
  {
   "cell_type": "code",
   "execution_count": null,
   "id": "41109949-45f3-4ba1-bca2-e7cc1d0bd887",
   "metadata": {},
   "outputs": [],
   "source": [
    "# Definition of countries and capital\n",
    "countries = ['spain', 'france', 'germany', 'norway']\n",
    "capitals = ['madrid', 'paris', 'berlin', 'oslo']\n",
    "\n",
    "# Get index of 'germany': ind_ger\n",
    "ind_ger = countries.index('germany')\n",
    "\n",
    "# Use ind_ger to print out capital of Germany\n",
    "print(capitals[ind_ger])"
   ]
  },
  {
   "cell_type": "markdown",
   "id": "4232e186-5136-4ab6-9b8b-b9847e2a23e8",
   "metadata": {},
   "source": [
    "## Create dictionary"
   ]
  },
  {
   "cell_type": "markdown",
   "id": "514a4885-4779-4375-a611-f46f4cf3ad38",
   "metadata": {},
   "source": [
    "The countries and capitals lists are again available in the script. It's your job to convert this data to a dictionary where the country names are the keys and the capitals are the corresponding values. As a refresher, here is a recipe for creating a dictionary:\n",
    "\n",
    "my_dict = {\n",
    "   \"key1\":\"value1\",\n",
    "   \"key2\":\"value2\",\n",
    "}\n",
    "In this recipe, both the keys and the values are strings. This will also be the case for this exercise.\n",
    "\n",
    "Instructions\n",
    "100 XP\n",
    "With the strings in countries and capitals, create a dictionary called europe with 4 key:value pairs. Beware of capitalization! Make sure you use lowercase characters everywhere.\n",
    "Print out europe to see if the result is what you expected."
   ]
  },
  {
   "cell_type": "code",
   "execution_count": null,
   "id": "6db8d25e-a538-4f60-b6e6-071fe76b6c1d",
   "metadata": {},
   "outputs": [],
   "source": [
    "# Definition of countries and capital\n",
    "countries = ['spain', 'france', 'germany', 'norway']\n",
    "capitals = ['madrid', 'paris', 'berlin', 'oslo']\n",
    "\n",
    "# From string in countries and capitals, create dictionary europe\n",
    "europe = {'spain':'madrid', 'france': 'paris', 'germany': 'berlin', 'norway': 'oslo'}\n",
    "\n",
    "# Print europe\n",
    "print(europe)"
   ]
  },
  {
   "cell_type": "markdown",
   "id": "ab9d67f3-ffd5-4164-b81e-22b340c142e4",
   "metadata": {},
   "source": [
    "## Access dictionary"
   ]
  },
  {
   "cell_type": "markdown",
   "id": "45806705-0f4d-4294-b001-d4c411ee3f3d",
   "metadata": {},
   "source": [
    "If the keys of a dictionary are chosen wisely, accessing the values in a dictionary is easy and intuitive. For example, to get the capital for France from europe you can use:\n",
    "\n",
    "europe['france']\n",
    "Here, 'france' is the key and 'paris' the value is returned.\n",
    "\n",
    "Instructions\n",
    "100 XP\n",
    "Check out which keys are in europe by calling the keys() method on europe. Print out the result.\n",
    "Print out the value that belongs to the key 'norway'."
   ]
  },
  {
   "cell_type": "code",
   "execution_count": null,
   "id": "12ba1cac-9b0d-4109-b97c-dfa21f4b336f",
   "metadata": {},
   "outputs": [],
   "source": [
    "# Definition of dictionary\n",
    "europe = {'spain':'madrid', 'france':'paris', 'germany':'berlin', 'norway':'oslo' }\n",
    "\n",
    "# Print out the keys in europe\n",
    "print(europe.keys())\n",
    "\n",
    "# Print out value that belongs to key 'norway'\n",
    "print(europe['norway'])"
   ]
  },
  {
   "cell_type": "markdown",
   "id": "5ca742d8-f04a-43f2-a448-aa8c8a23d6ce",
   "metadata": {},
   "source": [
    "## Dictionary Manipulation (1)"
   ]
  },
  {
   "cell_type": "markdown",
   "id": "421953e7-966e-4902-889a-e64111ede172",
   "metadata": {},
   "source": [
    "If you know how to access a dictionary, you can also assign a new value to it. To add a new key-value pair to europe you can use something like this:\n",
    "\n",
    "europe['iceland'] = 'reykjavik'\n",
    "Instructions\n",
    "100 XP\n",
    "Add the key 'italy' with the value 'rome' to europe.\n",
    "To assert that 'italy' is now a key in europe, print out 'italy' in europe.\n",
    "Add another key:value pair to europe: 'poland' is the key, 'warsaw' is the corresponding value.\n",
    "Print out europe."
   ]
  },
  {
   "cell_type": "code",
   "execution_count": null,
   "id": "2c0ee945-02b0-4aa8-bdb4-9a13b748c672",
   "metadata": {},
   "outputs": [],
   "source": [
    "# Definition of dictionary\n",
    "europe = {'spain':'madrid', 'france':'paris', 'germany':'berlin', 'norway':'oslo' }\n",
    "\n",
    "# Add italy to europe\n",
    "europe['italy'] = 'rome'\n",
    "\n",
    "# Print out italy in europe\n",
    "print('italy' in europe)\n",
    "\n",
    "# Add poland to europe\n",
    "europe['poland'] = 'warsaw'\n",
    "\n",
    "# Print europe\n",
    "print(europe)"
   ]
  },
  {
   "cell_type": "markdown",
   "id": "cc101137-e7ab-4b04-a8be-8d4c5dda6831",
   "metadata": {
    "tags": []
   },
   "source": [
    "## Dictionary Manipulation (2)"
   ]
  },
  {
   "cell_type": "markdown",
   "id": "95095d6b-b506-41ac-bc1e-93e89382adb9",
   "metadata": {},
   "source": [
    "Somebody thought it would be funny to mess with your accurately generated dictionary. An adapted version of the europe dictionary is available in the script.\n",
    "\n",
    "Can you clean up? Do not do this by adapting the definition of europe, but by adding Python commands to the script to update and remove key:value pairs.\n",
    "\n",
    "Instructions\n",
    "100 XP\n",
    "The capital of Germany is not 'bonn'; it's 'berlin'. Update its value.\n",
    "Australia is not in Europe, Austria is! Remove the key 'australia' from europe.\n",
    "Print out europe to see if your cleaning work paid off."
   ]
  },
  {
   "cell_type": "code",
   "execution_count": null,
   "id": "a5c692df-b192-4e8c-9530-3908532a474a",
   "metadata": {},
   "outputs": [],
   "source": [
    "# Definition of dictionary\n",
    "europe = {'spain':'madrid', 'france':'paris', 'germany':'bonn',\n",
    "          'norway':'oslo', 'italy':'rome', 'poland':'warsaw',\n",
    "          'australia':'vienna' }\n",
    "\n",
    "# Update capital of germany\n",
    "europe['germany'] = 'berlin'\n",
    "\n",
    "# Remove australia\n",
    "del europe['australia']\n",
    "\n",
    "# Print europe\n",
    "print(europe)"
   ]
  },
  {
   "cell_type": "markdown",
   "id": "7e605515-c4bf-4ed3-a50c-69e7b8cc2014",
   "metadata": {},
   "source": [
    "## Dictionariception"
   ]
  },
  {
   "cell_type": "markdown",
   "id": "69dc80b8-ca9c-4ab4-a70c-81a3653845de",
   "metadata": {},
   "source": [
    "Remember lists? They could contain anything, even other lists. Well, for dictionaries the same holds. Dictionaries can contain key:value pairs where the values are again dictionaries.\n",
    "\n",
    "As an example, have a look at the script where another version of europe - the dictionary you've been working with all along - is coded. The keys are still the country names, but the values are dictionaries that contain more information than just the capital.\n",
    "\n",
    "It's perfectly possible to chain square brackets to select elements. To fetch the population for Spain from europe, for example, you need:\n",
    "\n",
    "europe['spain']['population']\n",
    "Instructions\n",
    "100 XP\n",
    "Use chained square brackets to select and print out the capital of France.\n",
    "Create a dictionary, named data, with the keys 'capital' and 'population'. Set them to 'rome' and 59.83, respectively.\n",
    "Add a new key-value pair to europe; the key is 'italy' and the value is data, the dictionary you just built."
   ]
  },
  {
   "cell_type": "code",
   "execution_count": null,
   "id": "6aaf6927-d542-4a37-9aaa-d831d7c9789a",
   "metadata": {},
   "outputs": [],
   "source": [
    "# Dictionary of dictionaries\n",
    "europe = { 'spain': { 'capital':'madrid', 'population':46.77 },\n",
    "           'france': { 'capital':'paris', 'population':66.03 },\n",
    "           'germany': { 'capital':'berlin', 'population':80.62 },\n",
    "           'norway': { 'capital':'oslo', 'population':5.084 } }\n",
    "\n",
    "\n",
    "# Print out the capital of France\n",
    "print(europe['spain']['capital'])\n",
    "\n",
    "# Create sub-dictionary data\n",
    "data = {'capital':'rome', 'population': 59.83}\n",
    "\n",
    "# Add data to europe under key 'italy'\n",
    "europe['italy'] = data \n",
    "\n",
    "# Print europe\n",
    "print(europe)"
   ]
  },
  {
   "cell_type": "markdown",
   "id": "9ee3479d-01dd-4a8e-8d79-8defdd7d4446",
   "metadata": {},
   "source": [
    "## Dictionary to DataFrame (1)"
   ]
  },
  {
   "cell_type": "markdown",
   "id": "3a61e20b-d782-4290-bf16-4451b3051198",
   "metadata": {},
   "source": [
    "Pandas is an open source library, providing high-performance, easy-to-use data structures and data analysis tools for Python. Sounds promising!\n",
    "\n",
    "The DataFrame is one of Pandas' most important data structures. It's basically a way to store tabular data where you can label the rows and the columns. One way to build a DataFrame is from a dictionary.\n",
    "\n",
    "In the exercises that follow you will be working with vehicle data from different countries. Each observation corresponds to a country and the columns give information about the number of vehicles per capita, whether people drive left or right, and so on.\n",
    "\n",
    "Three lists are defined in the script:\n",
    "\n",
    "names, containing the country names for which data is available.\n",
    "dr, a list with booleans that tells whether people drive left or right in the corresponding country.\n",
    "cpc, the number of motor vehicles per 1000 people in the corresponding country.\n",
    "Each dictionary key is a column label and each value is a list which contains the column elements.\n",
    "\n",
    "Instructions\n",
    "100 XP\n",
    "Import pandas as pd.\n",
    "Use the pre-defined lists to create a dictionary called my_dict. There should be three key value pairs:\n",
    "key 'country' and value names.\n",
    "key 'drives_right' and value dr.\n",
    "key 'cars_per_cap' and value cpc.\n",
    "Use pd.DataFrame() to turn your dict into a DataFrame called cars.\n",
    "Print out cars and see how beautiful it is."
   ]
  },
  {
   "cell_type": "code",
   "execution_count": null,
   "id": "877592f7-8766-4cd4-9ba0-82eede0b58da",
   "metadata": {},
   "outputs": [],
   "source": [
    "# Pre-defined lists\n",
    "names = ['United States', 'Australia', 'Japan', 'India', 'Russia', 'Morocco', 'Egypt']\n",
    "dr =  [True, False, False, False, True, True, True]\n",
    "cpc = [809, 731, 588, 18, 200, 70, 45]\n",
    "\n",
    "# Import pandas as pd\n",
    "import pandas as pd\n",
    "\n",
    "# Create dictionary my_dict with three key:value pairs: my_dict\n",
    "my_dict = {'country': names, 'drives_right': dr, 'cars_per_cap': cpc}\n",
    "\n",
    "# Build a DataFrame cars from my_dict: cars\n",
    "cars = pd.DataFrame(my_dict)\n",
    "\n",
    "# Print cars\n",
    "print(cars)"
   ]
  },
  {
   "cell_type": "markdown",
   "id": "da72d775-180e-4d68-a3c3-3cdbdadfcf9b",
   "metadata": {},
   "source": [
    "## Dictionary to DataFrame (2)"
   ]
  },
  {
   "cell_type": "markdown",
   "id": "cb6dc1fe-5dcc-4ee2-a749-65b3b509f5a0",
   "metadata": {},
   "source": [
    "The Python code that solves the previous exercise is included in the script. Have you noticed that the row labels (i.e. the labels for the different observations) were automatically set to integers from 0 up to 6?\n",
    "\n",
    "To solve this a list row_labels has been created. You can use it to specify the row labels of the cars DataFrame. You do this by setting the index attribute of cars, that you can access as cars.index.\n",
    "\n",
    "Instructions\n",
    "100 XP\n",
    "Hit Run Code to see that, indeed, the row labels are not correctly set.\n",
    "Specify the row labels by setting cars.index equal to row_labels.\n",
    "Print out cars again and check if the row labels are correct this time."
   ]
  },
  {
   "cell_type": "code",
   "execution_count": null,
   "id": "c87eedfd-118f-4e3d-94a8-a6e1f0110542",
   "metadata": {},
   "outputs": [],
   "source": [
    "import pandas as pd\n",
    "\n",
    "# Build cars DataFrame\n",
    "names = ['United States', 'Australia', 'Japan', 'India', 'Russia', 'Morocco', 'Egypt']\n",
    "dr =  [True, False, False, False, True, True, True]\n",
    "cpc = [809, 731, 588, 18, 200, 70, 45]\n",
    "cars_dict = { 'country':names, 'drives_right':dr, 'cars_per_cap':cpc }\n",
    "cars = pd.DataFrame(cars_dict)\n",
    "print(cars)\n",
    "\n",
    "# Definition of row_labels\n",
    "row_labels = ['US', 'AUS', 'JPN', 'IN', 'RU', 'MOR', 'EG']\n",
    "\n",
    "# Specify row labels of cars\n",
    "cars.index = row_labels\n",
    "\n",
    "# Print cars again\n",
    "print(cars)"
   ]
  },
  {
   "cell_type": "markdown",
   "id": "aee1b007-afe0-40f9-b40a-ebc6c814acf5",
   "metadata": {},
   "source": [
    "## CSV to DataFrame (1)"
   ]
  },
  {
   "cell_type": "markdown",
   "id": "ca437cbb-9490-46c5-809f-842d686009bf",
   "metadata": {},
   "source": [
    "Putting data in a dictionary and then building a DataFrame works, but it's not very efficient. What if you're dealing with millions of observations? In those cases, the data is typically available as files with a regular structure. One of those file types is the CSV file, which is short for \"comma-separated values\".\n",
    "\n",
    "To import CSV data into Python as a Pandas DataFrame you can use read_csv().\n",
    "\n",
    "Let's explore this function with the same cars data from the previous exercises. This time, however, the data is available in a CSV file, named cars.csv. It is available in your current working directory, so the path to the file is simply 'cars.csv'.\n",
    "\n",
    "Instructions\n",
    "100 XP\n",
    "To import CSV files you still need the pandas package: import it as pd.\n",
    "Use pd.read_csv() to import cars.csv data as a DataFrame. Store this DataFrame as cars.\n",
    "Print out cars. Does everything look OK?"
   ]
  },
  {
   "cell_type": "code",
   "execution_count": null,
   "id": "b332d46d-9da7-4152-90a9-bbf7b42c3055",
   "metadata": {},
   "outputs": [],
   "source": [
    "# Import pandas as pd\n",
    "import pandas as pd\n",
    "\n",
    "# Import the cars.csv data: cars\n",
    "cars = pd.read_csv('cars.csv')\n",
    "\n",
    "# Print out cars\n",
    "print(cars)"
   ]
  },
  {
   "cell_type": "markdown",
   "id": "6f27ab08-60a7-4bcf-890e-f7aa6a83e86e",
   "metadata": {},
   "source": [
    "## CSV to DataFrame (2)"
   ]
  },
  {
   "cell_type": "markdown",
   "id": "17465ea8-1a10-422d-bbb7-9009245666e1",
   "metadata": {},
   "source": [
    "Your read_csv() call to import the CSV data didn't generate an error, but the output is not entirely what we wanted. The row labels were imported as another column without a name.\n",
    "\n",
    "Remember index_col, an argument of read_csv(), that you can use to specify which column in the CSV file should be used as a row label? Well, that's exactly what you need here!\n",
    "\n",
    "Python code that solves the previous exercise is already included; can you make the appropriate changes to fix the data import?\n",
    "\n",
    "Instructions\n",
    "100 XP\n",
    "Run the code with Run Code and assert that the first column should actually be used as row labels.\n",
    "Specify the index_col argument inside pd.read_csv(): set it to 0, so that the first column is used as row labels.\n",
    "Has the printout of cars improved now?"
   ]
  },
  {
   "cell_type": "code",
   "execution_count": null,
   "id": "28863ca5-cd72-4d9a-98e5-b5711cfd60ee",
   "metadata": {},
   "outputs": [],
   "source": [
    "# Import pandas as pd\n",
    "import pandas as pd\n",
    "\n",
    "# Fix import by including index_col\n",
    "cars = pd.read_csv('cars.csv', index_col = 0)\n",
    "\n",
    "# Print out cars\n",
    "print(cars)"
   ]
  },
  {
   "cell_type": "markdown",
   "id": "eb13b66b-5910-4fd4-9094-a423ca7ff0d8",
   "metadata": {},
   "source": [
    "## Square Brackets (1)"
   ]
  },
  {
   "cell_type": "markdown",
   "id": "1537d872-cac1-4101-a6ae-5d28c63d385b",
   "metadata": {},
   "source": [
    "In the video, you saw that you can index and select Pandas DataFrames in many different ways. The simplest, but not the most powerful way, is to use square brackets.\n",
    "\n",
    "In the sample code, the same cars data is imported from a CSV files as a Pandas DataFrame. To select only the cars_per_cap column from cars, you can use:\n",
    "\n",
    "cars['cars_per_cap']\n",
    "cars[['cars_per_cap']]\n",
    "The single bracket version gives a Pandas Series, the double bracket version gives a Pandas DataFrame.\n",
    "\n",
    "Instructions\n",
    "100 XP\n",
    "Use single square brackets to print out the country column of cars as a Pandas Series.\n",
    "Use double square brackets to print out the country column of cars as a Pandas DataFrame.\n",
    "Use double square brackets to print out a DataFrame with both the country and drives_right columns of cars, in this order."
   ]
  },
  {
   "cell_type": "code",
   "execution_count": null,
   "id": "57e56c8e-a3df-4b40-a303-2d3fb74e9720",
   "metadata": {},
   "outputs": [],
   "source": [
    "# Import cars data\n",
    "import pandas as pd\n",
    "cars = pd.read_csv('cars.csv', index_col = 0)\n",
    "\n",
    "# Print out country column as Pandas Series\n",
    "print(cars['country'])\n",
    "\n",
    "# Print out country column as Pandas DataFrame\n",
    "print(cars[['country']])\n",
    "\n",
    "# Print out DataFrame with country and drives_right columns\n",
    "print(cars[['country', 'drives_right']])"
   ]
  },
  {
   "cell_type": "markdown",
   "id": "7449a9c5-6725-4b4d-b4bf-06d555469c65",
   "metadata": {},
   "source": [
    "## Square Brackets (2)"
   ]
  },
  {
   "cell_type": "markdown",
   "id": "6840f44f-6def-45c4-aba2-891f87c22e69",
   "metadata": {},
   "source": [
    "Square brackets can do more than just selecting columns. You can also use them to get rows, or observations, from a DataFrame. The following call selects the first five rows from the cars DataFrame:\n",
    "\n",
    "cars[0:5]\n",
    "The result is another DataFrame containing only the rows you specified.\n",
    "\n",
    "Pay attention: You can only select rows using square brackets if you specify a slice, like 0:4. Also, you're using the integer indexes of the rows here, not the row labels!\n",
    "\n",
    "Instructions\n",
    "100 XP\n",
    "Select the first 3 observations from cars and print them out.\n",
    "Select the fourth, fifth and sixth observation, corresponding to row indexes 3, 4 and 5, and print them out."
   ]
  },
  {
   "cell_type": "code",
   "execution_count": null,
   "id": "b56b11a5-6eca-4f14-9e57-5821e7ebd4ff",
   "metadata": {},
   "outputs": [],
   "source": [
    "# Import cars data\n",
    "import pandas as pd\n",
    "cars = pd.read_csv('cars.csv', index_col = 0)\n",
    "\n",
    "# Print out first 3 observations\n",
    "print(cars[0:3])\n",
    "\n",
    "# Print out fourth, fifth and sixth observation\n",
    "print(cars[3:6])"
   ]
  },
  {
   "cell_type": "markdown",
   "id": "1ee36a8f-b51c-40bd-afa2-ed5271a61e6a",
   "metadata": {},
   "source": [
    "## loc and iloc (1)"
   ]
  },
  {
   "cell_type": "markdown",
   "id": "0c72303f-d1ca-44fd-a42f-09e52067c553",
   "metadata": {},
   "source": [
    "With loc and iloc you can do practically any data selection operation on DataFrames you can think of. loc is label-based, which means that you have to specify rows and columns based on their row and column labels. iloc is integer index based, so you have to specify rows and columns by their integer index like you did in the previous exercise.\n",
    "\n",
    "Try out the following commands in the IPython Shell to experiment with loc and iloc to select observations. Each pair of commands here gives the same result.\n",
    "\n",
    "cars.loc['RU']\n",
    "cars.iloc[4]\n",
    "\n",
    "cars.loc[['RU']]\n",
    "cars.iloc[[4]]\n",
    "\n",
    "cars.loc[['RU', 'AUS']]\n",
    "cars.iloc[[4, 1]]\n",
    "As before, code is included that imports the cars data as a Pandas DataFrame.\n",
    "\n",
    "Instructions\n",
    "100 XP\n",
    "Use loc or iloc to select the observation corresponding to Japan as a Series. The label of this row is JPN, the index is 2. Make sure to print the resulting Series.\n",
    "Use loc or iloc to select the observations for Australia and Egypt as a DataFrame. You can find out about the labels/indexes of these rows by inspecting cars in the IPython Shell. Make sure to print the resulting DataFrame."
   ]
  },
  {
   "cell_type": "code",
   "execution_count": null,
   "id": "1302bdc3-26a4-4284-b9a9-66c954e7b1ee",
   "metadata": {},
   "outputs": [],
   "source": [
    "# Import cars data\n",
    "import pandas as pd\n",
    "cars = pd.read_csv('cars.csv', index_col = 0)\n",
    "\n",
    "# Print out observation for Japan\n",
    "print(cars.iloc[2])\n",
    "\n",
    "# Print out observations for Australia and Egypt\n",
    "print(cars.loc[['AUS', 'EG']])"
   ]
  },
  {
   "cell_type": "markdown",
   "id": "24534029-1536-40b2-af7a-fbf35fbcf76e",
   "metadata": {},
   "source": [
    "## loc and iloc (2)"
   ]
  },
  {
   "cell_type": "markdown",
   "id": "5362020a-80bb-4a0d-a0bd-25af9c843367",
   "metadata": {},
   "source": [
    "loc and iloc also allow you to select both rows and columns from a DataFrame. To experiment, try out the following commands in the IPython Shell. Again, paired commands produce the same result.\n",
    "\n",
    "cars.loc['IN', 'cars_per_cap']\n",
    "cars.iloc[3, 0]\n",
    "\n",
    "cars.loc[['IN', 'RU'], 'cars_per_cap']\n",
    "cars.iloc[[3, 4], 0]\n",
    "\n",
    "cars.loc[['IN', 'RU'], ['cars_per_cap', 'country']]\n",
    "cars.iloc[[3, 4], [0, 1]]\n",
    "Instructions\n",
    "100 XP\n",
    "Print out the drives_right value of the row corresponding to Morocco (its row label is MOR)\n",
    "Print out a sub-DataFrame, containing the observations for Russia and Morocco and the columns country and drives_right."
   ]
  },
  {
   "cell_type": "code",
   "execution_count": null,
   "id": "3b223134-dc87-415f-b6e6-bf88374039bf",
   "metadata": {},
   "outputs": [],
   "source": [
    "# Import cars data\n",
    "import pandas as pd\n",
    "cars = pd.read_csv('cars.csv', index_col = 0)\n",
    "\n",
    "# Print out drives_right value of Morocco\n",
    "print(cars.loc['MOR', 'drives_right'])\n",
    "\n",
    "# Print sub-DataFrame\n",
    "print(cars.loc[['RU', 'MOR'], ['country', 'drives_right']])"
   ]
  },
  {
   "cell_type": "markdown",
   "id": "9b692a31-336a-465b-b62f-ba65bbe889ff",
   "metadata": {},
   "source": [
    "## loc and iloc (3)"
   ]
  },
  {
   "cell_type": "markdown",
   "id": "1ee0b8a6-584e-4bf9-a11c-eb2481f3c849",
   "metadata": {},
   "source": [
    "It's also possible to select only columns with loc and iloc. In both cases, you simply put a slice going from beginning to end in front of the comma:\n",
    "\n",
    "cars.loc[:, 'country']\n",
    "cars.iloc[:, 1]\n",
    "\n",
    "cars.loc[:, ['country','drives_right']]\n",
    "cars.iloc[:, [1, 2]]\n",
    "Instructions\n",
    "100 XP\n",
    "Print out the drives_right column as a Series using loc or iloc.\n",
    "Print out the drives_right column as a DataFrame using loc or iloc.\n",
    "Print out both the cars_per_cap and drives_right column as a DataFrame using loc or iloc."
   ]
  },
  {
   "cell_type": "code",
   "execution_count": null,
   "id": "2a88a4b1-362b-43d6-b9ad-54a4bbb46f09",
   "metadata": {},
   "outputs": [],
   "source": [
    "# Import cars data\n",
    "import pandas as pd\n",
    "cars = pd.read_csv('cars.csv', index_col = 0)\n",
    "\n",
    "# Print out drives_right column as Series\n",
    "print(cars.loc[:, 'drives_right'])\n",
    "\n",
    "# Print out drives_right column as DataFrame\n",
    "print(cars.loc[:, ['drives_right']])\n",
    "\n",
    "# Print out cars_per_cap and drives_right as DataFrame\n",
    "print(cars.loc[:, ['cars_per_cap', 'drives_right']])"
   ]
  }
 ],
 "metadata": {
  "kernelspec": {
   "display_name": "Python 3 (ipykernel)",
   "language": "python",
   "name": "python3"
  },
  "language_info": {
   "codemirror_mode": {
    "name": "ipython",
    "version": 3
   },
   "file_extension": ".py",
   "mimetype": "text/x-python",
   "name": "python",
   "nbconvert_exporter": "python",
   "pygments_lexer": "ipython3",
   "version": "3.11.5"
  }
 },
 "nbformat": 4,
 "nbformat_minor": 5
}
