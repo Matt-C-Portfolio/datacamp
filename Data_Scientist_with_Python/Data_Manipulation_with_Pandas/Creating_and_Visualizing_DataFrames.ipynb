{
 "cells": [
  {
   "cell_type": "markdown",
   "id": "37fd5d9b-ac11-456e-85e1-1b02c6e9e3c5",
   "metadata": {},
   "source": [
    "# Data Manipulation with pandas: Creating and Visualizing DataFrames"
   ]
  },
  {
   "cell_type": "markdown",
   "id": "ac2c3607-9b89-4eea-bb14-d8076c54d0a8",
   "metadata": {},
   "source": [
    "## Which avocado size is most popular?"
   ]
  },
  {
   "cell_type": "markdown",
   "id": "235a3ad9-68e8-425b-94c7-8167cce49a9e",
   "metadata": {},
   "source": [
    "Avocados are increasingly popular and delicious in guacamole and on toast. The Hass Avocado Board keeps track of avocado supply and demand across the USA, including the sales of three different sizes of avocado. In this exercise, you'll use a bar plot to figure out which size is the most popular.\n",
    "\n",
    "Bar plots are great for revealing relationships between categorical (size) and numeric (number sold) variables, but you'll often have to manipulate your data first in order to get the numbers you need for plotting.\n",
    "\n",
    "pandas has been imported as pd, and avocados is available.\n",
    "\n",
    "Instructions\n",
    "100 XP\n",
    "Print the head of the avocados dataset. What columns are available?\n",
    "For each avocado size group, calculate the total number sold, storing as nb_sold_by_size.\n",
    "Create a bar plot of the number of avocados sold by size.\n",
    "Show the plot."
   ]
  },
  {
   "cell_type": "code",
   "execution_count": null,
   "id": "5ad1ecf8-c464-4110-acbf-1ab76d6e1541",
   "metadata": {
    "tags": []
   },
   "outputs": [],
   "source": [
    "# Import matplotlib.pyplot with alias plt\n",
    "import matplotlib.pyplot as plt\n",
    "\n",
    "# Look at the first few rows of data\n",
    "print(avocados.head())\n",
    "\n",
    "# Get the total number of avocados sold of each size\n",
    "nb_sold_by_size = avocados.groupby('size')['nb_sold'].sum()\n",
    "print(nb_sold_by_size)\n",
    "\n",
    "# Create a bar plot of the number of avocados sold by size\n",
    "nb_sold_by_size.plot(kind='bar')\n",
    "\n",
    "# Show the plot\n",
    "plt.show()"
   ]
  },
  {
   "cell_type": "markdown",
   "id": "f7191f2c-34d6-40b3-a3e3-dfcb6f081813",
   "metadata": {},
   "source": [
    "## Changes in sales over time"
   ]
  },
  {
   "cell_type": "markdown",
   "id": "742dc5b3-ec8e-4ae5-a78e-58693acadfaa",
   "metadata": {},
   "source": [
    "Line plots are designed to visualize the relationship between two numeric variables, where each data values is connected to the next one. They are especially useful for visualizing the change in a number over time since each time point is naturally connected to the next time point. In this exercise, you'll visualize the change in avocado sales over three years.\n",
    "\n",
    "pandas has been imported as pd, and avocados is available.\n",
    "\n",
    "Instructions\n",
    "100 XP\n",
    "Get the total number of avocados sold on each date. The DataFrame has two rows for each date—one for organic, and one for conventional. Save this as nb_sold_by_date.\n",
    "Create a line plot of the number of avocados sold.\n",
    "Show the plot."
   ]
  },
  {
   "cell_type": "code",
   "execution_count": null,
   "id": "803e8f42-7b93-4090-9bca-a4623fc02f84",
   "metadata": {},
   "outputs": [],
   "source": [
    "# Import matplotlib.pyplot with alias plt\n",
    "import matplotlib.pyplot as plt\n",
    "print(avocados.head())\n",
    "\n",
    "# Get the total number of avocados sold on each date\n",
    "nb_sold_by_date = avocados.groupby('date')['nb_sold'].sum()\n",
    "print(nb_sold_by_date)\n",
    "\n",
    "# Create a line plot of the number of avocados sold by date\n",
    "nb_sold_by_date.plot(x = 'date', kind = 'line')\n",
    "\n",
    "# Show the plot\n",
    "plt.show()"
   ]
  },
  {
   "cell_type": "markdown",
   "id": "29d8139d-3df9-433c-a426-3b07110de816",
   "metadata": {},
   "source": [
    "## Avocado supply and demand"
   ]
  },
  {
   "cell_type": "markdown",
   "id": "d29a78bd-4971-4d3d-9bcd-cce3162fca51",
   "metadata": {},
   "source": [
    "Scatter plots are ideal for visualizing relationships between numerical variables. In this exercise, you'll compare the number of avocados sold to average price and see if they're at all related. If they're related, you may be able to use one number to predict the other.\n",
    "\n",
    "matplotlib.pyplot has been imported as plt, pandas has been imported as pd, and avocados is available.\n",
    "\n",
    "Instructions\n",
    "100 XP\n",
    "Create a scatter plot with nb_sold on the x-axis and avg_price on the y-axis. Title it \"Number of avocados sold vs. average price\".\n",
    "Show the plot."
   ]
  },
  {
   "cell_type": "code",
   "execution_count": null,
   "id": "a3141412-3a69-4dc6-955a-2029f3367394",
   "metadata": {},
   "outputs": [],
   "source": [
    "# Scatter plot of avg_price vs. nb_sold with title\n",
    "avocados.plot(x='nb_sold', y='avg_price', kind='scatter', title='Number of avocados sold vs. average price')\n",
    "\n",
    "# Show the plot\n",
    "plt.show()"
   ]
  },
  {
   "cell_type": "markdown",
   "id": "31b2aa70-3c03-4870-a42f-1fc68a19346d",
   "metadata": {},
   "source": [
    "## Price of conventional vs. organic avocados"
   ]
  },
  {
   "cell_type": "markdown",
   "id": "9cda5ac9-44a0-4e7b-b29c-c0399b36bccd",
   "metadata": {},
   "source": [
    "Creating multiple plots for different subsets of data allows you to compare groups. In this exercise, you'll create multiple histograms to compare the prices of conventional and organic avocados.\n",
    "\n",
    "matplotlib.pyplot has been imported as plt and pandas has been imported as pd.\n",
    "\n",
    "Instructions 3/3\n",
    "30 XP\n",
    "Modify your code to use 20 bins in both histograms."
   ]
  },
  {
   "cell_type": "code",
   "execution_count": null,
   "id": "f5f082a2-3ab6-4edf-87ac-7b85d9ee3d79",
   "metadata": {},
   "outputs": [],
   "source": [
    "# Modify bins to 20\n",
    "avocados[avocados[\"type\"] == \"conventional\"][\"avg_price\"].hist(alpha=0.5, bins=20)\n",
    "\n",
    "# Modify bins to 20\n",
    "avocados[avocados[\"type\"] == \"organic\"][\"avg_price\"].hist(alpha=0.5, bins=20)\n",
    "\n",
    "# Add a legend\n",
    "plt.legend([\"conventional\", \"organic\"])\n",
    "\n",
    "# Show the plot\n",
    "plt.show()"
   ]
  },
  {
   "cell_type": "markdown",
   "id": "a62b89e4-62c8-47e5-989e-677ed7c2740a",
   "metadata": {},
   "source": [
    "## Finding missing values"
   ]
  },
  {
   "cell_type": "markdown",
   "id": "8b1ac1b3-bc29-480d-b3d0-36f077a2d4fb",
   "metadata": {},
   "source": [
    "Missing values are everywhere, and you don't want them interfering with your work. Some functions ignore missing data by default, but that's not always the behavior you might want. Some functions can't handle missing values at all, so these values need to be taken care of before you can use them. If you don't know where your missing values are, or if they exist, you could make mistakes in your analysis. In this exercise, you'll determine if there are missing values in the dataset, and if so, how many.\n",
    "\n",
    "pandas has been imported as pd and avocados_2016, a subset of avocados that contains only sales from 2016, is available.\n",
    "\n",
    "Instructions\n",
    "100 XP\n",
    "Print a DataFrame that shows whether each value in avocados_2016 is missing or not.\n",
    "Print a summary that shows whether any value in each column is missing or not.\n",
    "Create a bar plot of the total number of missing values in each column."
   ]
  },
  {
   "cell_type": "code",
   "execution_count": null,
   "id": "6284953b-5b61-4471-a2ec-d3d0eb3482f4",
   "metadata": {},
   "outputs": [],
   "source": [
    "# Import matplotlib.pyplot with alias plt\n",
    "import matplotlib.pyplot as plt\n",
    "\n",
    "# Check individual values for missing values\n",
    "print(avocados_2016.isna())\n",
    "\n",
    "# Check each column for missing values\n",
    "print(avocados_2016.isna().any())\n",
    "\n",
    "# Bar plot of missing values by variable\n",
    "avocados_2016.isna().sum().plot(kind='bar')\n",
    "\n",
    "# Show plot\n",
    "plt.show()"
   ]
  },
  {
   "cell_type": "markdown",
   "id": "948bd261-88d5-47ca-b44f-ebeb90e89e3f",
   "metadata": {},
   "source": [
    "## Removing missing values"
   ]
  },
  {
   "cell_type": "markdown",
   "id": "fa804b9c-b360-46a1-a42f-e619ceb79eb3",
   "metadata": {},
   "source": [
    "Now that you know there are some missing values in your DataFrame, you have a few options to deal with them. One way is to remove them from the dataset completely. In this exercise, you'll remove missing values by removing all rows that contain missing values.\n",
    "\n",
    "pandas has been imported as pd and avocados_2016 is available.\n",
    "\n",
    "Instructions\n",
    "100 XP\n",
    "Remove the rows of avocados_2016 that contain missing values and store the remaining rows in avocados_complete.\n",
    "Verify that all missing values have been removed from avocados_complete. Calculate each column that has NAs and print."
   ]
  },
  {
   "cell_type": "code",
   "execution_count": null,
   "id": "8b15f596-2be4-456a-acc8-d3e7a1758425",
   "metadata": {
    "tags": []
   },
   "outputs": [],
   "source": [
    "# Remove rows with missing values\n",
    "avocados_complete = avocados_2016.dropna()\n",
    "\n",
    "# Check if any columns contain missing values\n",
    "print(avocados_complete.isna().any())"
   ]
  },
  {
   "cell_type": "markdown",
   "id": "8c3fe82b-c7fd-48d3-8971-d6351b885b4f",
   "metadata": {},
   "source": [
    "## Replacing missing values"
   ]
  },
  {
   "cell_type": "markdown",
   "id": "c93f1a2a-83dc-4a93-b499-55ce3f40d2e3",
   "metadata": {},
   "source": [
    "Another way of handling missing values is to replace them all with the same value. For numerical variables, one option is to replace values with 0— you'll do this here. However, when you replace missing values, you make assumptions about what a missing value means. In this case, you will assume that a missing number sold means that no sales for that avocado type were made that week.\n",
    "\n",
    "In this exercise, you'll see how replacing missing values can affect the distribution of a variable using histograms. You can plot histograms for multiple variables at a time as follows:\n",
    "\n",
    "dogs[[\"height_cm\", \"weight_kg\"]].hist()\n",
    "pandas has been imported as pd and matplotlib.pyplot has been imported as plt. The avocados_2016 dataset is available.\n",
    "\n",
    "Instructions 2/2\n",
    "50 XP\n",
    "Replace the missing values of avocados_2016 with 0s and store the result as avocados_filled.\n",
    "Create a histogram of the cols_with_missing columns of avocados_filled."
   ]
  },
  {
   "cell_type": "code",
   "execution_count": null,
   "id": "3660719e-d3c7-4f01-8f2a-fa660a3f325a",
   "metadata": {},
   "outputs": [],
   "source": [
    "# From previous step\n",
    "cols_with_missing = [\"small_sold\", \"large_sold\", \"xl_sold\"]\n",
    "avocados_2016[cols_with_missing].hist()\n",
    "plt.show()\n",
    "\n",
    "# Fill in missing values with 0\n",
    "avocados_filled = avocados_2016.fillna(0)\n",
    "\n",
    "# Create histograms of the filled columns\n",
    "avocados_filled[cols_with_missing].hist()\n",
    "\n",
    "# Show the plot\n",
    "plt.show()"
   ]
  },
  {
   "cell_type": "markdown",
   "id": "887b897a-bf89-4ead-b015-89c43411ea6f",
   "metadata": {},
   "source": [
    "## List of dictionaries"
   ]
  },
  {
   "cell_type": "markdown",
   "id": "bd9d5149-63eb-4df2-ac7d-9208e33596c5",
   "metadata": {},
   "source": [
    "You recently got some new avocado data from 2019 that you'd like to put in a DataFrame using the list of dictionaries method. Remember that with this method, you go through the data row by row.\n",
    "\n",
    "date\tsmall_sold\tlarge_sold\n",
    "\"2019-11-03\"\t10376832\t7835071\n",
    "\"2019-11-10\"\t10717154\t8561348\n",
    "pandas as pd is imported.\n",
    "\n",
    "Instructions\n",
    "100 XP\n",
    "Create a list of dictionaries with the new data called avocados_list.\n",
    "Convert the list into a DataFrame called avocados_2019.\n",
    "Print your new DataFrame."
   ]
  },
  {
   "cell_type": "code",
   "execution_count": null,
   "id": "e29424d5-834b-416d-8e9d-8494a255ea65",
   "metadata": {},
   "outputs": [],
   "source": [
    "# Create a list of dictionaries with new data\n",
    "avocados_list = [\n",
    "    {'date': '2019-11-03', 'small_sold': 10376832, 'large_sold': 7835071},\n",
    "    {'date': '2019-11-10', 'small_sold': 10717154, 'large_sold': 8561348},\n",
    "]\n",
    "\n",
    "# Convert list into DataFrame\n",
    "avocados_2019 = pd.DataFrame(avocados_list)\n",
    "\n",
    "# Print the new DataFrame\n",
    "print(avocados_2019)"
   ]
  },
  {
   "cell_type": "markdown",
   "id": "7a8d0978-da40-4ff3-8715-4e853c5f217a",
   "metadata": {},
   "source": [
    "## Dictionary of lists"
   ]
  },
  {
   "cell_type": "markdown",
   "id": "a79d918c-106b-40c1-9db5-4681eb79cfa7",
   "metadata": {},
   "source": [
    "Some more data just came in! This time, you'll use the dictionary of lists method, parsing the data column by column.\n",
    "\n",
    "date\tsmall_sold\tlarge_sold\n",
    "\"2019-11-17\"\t10859987\t7674135\n",
    "\"2019-12-01\"\t9291631\t6238096\n",
    "pandas as pd is imported.\n",
    "\n",
    "Instructions\n",
    "100 XP\n",
    "Create a dictionary of lists with the new data called avocados_dict.\n",
    "Convert the dictionary to a DataFrame called avocados_2019.\n",
    "Print your new DataFrame."
   ]
  },
  {
   "cell_type": "code",
   "execution_count": null,
   "id": "a2a9a763-44c1-4e46-9542-499f698fe4ba",
   "metadata": {},
   "outputs": [],
   "source": [
    "# Create a dictionary of lists with new data\n",
    "avocados_dict = {\n",
    "  \"date\": ['2019-11-17', '2019-12-01'],\n",
    "  \"small_sold\": [10859987, 9291631],\n",
    "  \"large_sold\": [7674135, 6238096]\n",
    "}\n",
    "\n",
    "# Convert dictionary into DataFrame\n",
    "avocados_2019 = pd.DataFrame(avocados_dict)\n",
    "\n",
    "# Print the new DataFrame\n",
    "print(avocados_2019)"
   ]
  },
  {
   "cell_type": "markdown",
   "id": "9437db4e-002b-4308-9031-4f6b33f31f21",
   "metadata": {},
   "source": [
    "## CSV to DataFrame"
   ]
  },
  {
   "cell_type": "markdown",
   "id": "ecbaf849-c029-49a8-854b-248049d3b0a8",
   "metadata": {},
   "source": [
    "You work for an airline, and your manager has asked you to do a competitive analysis and see how often passengers flying on other airlines are involuntarily bumped from their flights. You got a CSV file (airline_bumping.csv) from the Department of Transportation containing data on passengers that were involuntarily denied boarding in 2016 and 2017, but it doesn't have the exact numbers you want. In order to figure this out, you'll need to get the CSV into a pandas DataFrame and do some manipulation!\n",
    "\n",
    "pandas is imported for you as pd. \"airline_bumping.csv\" is in your working directory."
   ]
  },
  {
   "cell_type": "code",
   "execution_count": null,
   "id": "5d479d29-e37b-4a2b-92dd-417d434e1e60",
   "metadata": {},
   "outputs": [],
   "source": [
    "# From previous steps\n",
    "airline_bumping = pd.read_csv(\"airline_bumping.csv\")\n",
    "print(airline_bumping.head())\n",
    "\n",
    "airline_totals = airline_bumping.groupby(\"airline\")[[\"nb_bumped\", \"total_passengers\"]].sum()\n",
    "\n",
    "airline_totals[\"bumps_per_10k\"] = airline_totals[\"nb_bumped\"] / airline_totals[\"total_passengers\"] * 10000\n",
    "\n",
    "# Print airline_totals\n",
    "print(airline_totals)"
   ]
  },
  {
   "cell_type": "markdown",
   "id": "e3e6e037-47d1-4b5c-a035-ea1324286527",
   "metadata": {},
   "source": [
    "## DataFrame to CSV"
   ]
  },
  {
   "cell_type": "markdown",
   "id": "63d73c6f-29af-44c7-b0be-812fe336d5df",
   "metadata": {},
   "source": [
    "You're almost there! To make things easier to read, you'll need to sort the data and export it to CSV so that your colleagues can read it.\n",
    "\n",
    "pandas as pd has been imported for you.\n",
    "\n",
    "Instructions\n",
    "100 XP\n",
    "Sort airline_totals by the values of bumps_per_10k from highest to lowest, storing as airline_totals_sorted.\n",
    "Print your sorted DataFrame.\n",
    "Save the sorted DataFrame as a CSV called \"airline_totals_sorted.csv\"."
   ]
  },
  {
   "cell_type": "code",
   "execution_count": null,
   "id": "7b6ae69f-1cdb-46b0-a6f6-9e4bdea0409e",
   "metadata": {},
   "outputs": [],
   "source": [
    "# Create airline_totals_sorted\n",
    "airline_totals_sorted = airline_totals.sort_values('bumps_per_10k', ascending=False)\n",
    "\n",
    "# Print airline_totals_sorted\n",
    "print(airline_totals_sorted)\n",
    "\n",
    "# Save as airline_totals_sorted.csv\n",
    "airline_totals_sorted.to_csv('airline_totals_sorted.csv')"
   ]
  }
 ],
 "metadata": {
  "kernelspec": {
   "display_name": "Python 3 (ipykernel)",
   "language": "python",
   "name": "python3"
  },
  "language_info": {
   "codemirror_mode": {
    "name": "ipython",
    "version": 3
   },
   "file_extension": ".py",
   "mimetype": "text/x-python",
   "name": "python",
   "nbconvert_exporter": "python",
   "pygments_lexer": "ipython3",
   "version": "3.11.5"
  }
 },
 "nbformat": 4,
 "nbformat_minor": 5
}
